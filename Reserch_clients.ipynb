{
 "cells": [
  {
   "cell_type": "markdown",
   "metadata": {
    "toc": true
   },
   "source": [
    "<h1>Содержание<span class=\"tocSkip\"></span></h1>\n",
    "<div class=\"toc\"><ul class=\"toc-item\"><li><span><a href=\"#Подготовка-данных\" data-toc-modified-id=\"Подготовка-данных-1\"><span class=\"toc-item-num\">1&nbsp;&nbsp;</span>Подготовка данных</a></span><ul class=\"toc-item\"><li><span><a href=\"#Описание-проекта-и-план-работы\" data-toc-modified-id=\"Описание-проекта-и-план-работы-1.1\"><span class=\"toc-item-num\">1.1&nbsp;&nbsp;</span>Описание проекта и план работы</a></span></li><li><span><a href=\"#Загрузка-датасета-и-обработка-данных\" data-toc-modified-id=\"Загрузка-датасета-и-обработка-данных-1.2\"><span class=\"toc-item-num\">1.2&nbsp;&nbsp;</span>Загрузка датасета и обработка данных</a></span></li></ul></li><li><span><a href=\"#Исследование-задачи\" data-toc-modified-id=\"Исследование-задачи-2\"><span class=\"toc-item-num\">2&nbsp;&nbsp;</span>Исследование задачи</a></span><ul class=\"toc-item\"><li><span><a href=\"#Исследуем-баланс-классов\" data-toc-modified-id=\"Исследуем-баланс-классов-2.1\"><span class=\"toc-item-num\">2.1&nbsp;&nbsp;</span>Исследуем баланс классов</a></span></li><li><span><a href=\"#Изучим-модели-без-учета-дисбаланса.\" data-toc-modified-id=\"Изучим-модели-без-учета-дисбаланса.-2.2\"><span class=\"toc-item-num\">2.2&nbsp;&nbsp;</span>Изучим модели без учета дисбаланса.</a></span><ul class=\"toc-item\"><li><span><a href=\"#DecisionTreeClassifier\" data-toc-modified-id=\"DecisionTreeClassifier-2.2.1\"><span class=\"toc-item-num\">2.2.1&nbsp;&nbsp;</span>DecisionTreeClassifier</a></span></li><li><span><a href=\"#LogisticRegression\" data-toc-modified-id=\"LogisticRegression-2.2.2\"><span class=\"toc-item-num\">2.2.2&nbsp;&nbsp;</span>LogisticRegression</a></span></li><li><span><a href=\"#RandomForestClassifier\" data-toc-modified-id=\"RandomForestClassifier-2.2.3\"><span class=\"toc-item-num\">2.2.3&nbsp;&nbsp;</span>RandomForestClassifier</a></span></li></ul></li><li><span><a href=\"#вывод\" data-toc-modified-id=\"вывод-2.3\"><span class=\"toc-item-num\">2.3&nbsp;&nbsp;</span>вывод</a></span></li></ul></li><li><span><a href=\"#Борьба-с-дисбалансом\" data-toc-modified-id=\"Борьба-с-дисбалансом-3\"><span class=\"toc-item-num\">3&nbsp;&nbsp;</span>Борьба с дисбалансом</a></span><ul class=\"toc-item\"><li><ul class=\"toc-item\"><li><span><a href=\"#Устранение-дисбаланса-методом-upsumpling.\" data-toc-modified-id=\"Устранение-дисбаланса-методом-upsumpling.-3.0.1\"><span class=\"toc-item-num\">3.0.1&nbsp;&nbsp;</span>Устранение дисбаланса методом upsumpling.</a></span></li><li><span><a href=\"#Устранение-дисбаланса-методом-downsumpling\" data-toc-modified-id=\"Устранение-дисбаланса-методом-downsumpling-3.0.2\"><span class=\"toc-item-num\">3.0.2&nbsp;&nbsp;</span>Устранение дисбаланса методом downsumpling</a></span></li><li><span><a href=\"#Оптимальный-порог-классификации\" data-toc-modified-id=\"Оптимальный-порог-классификации-3.0.3\"><span class=\"toc-item-num\">3.0.3&nbsp;&nbsp;</span>Оптимальный порог классификации</a></span></li><li><span><a href=\"#Вывод\" data-toc-modified-id=\"Вывод-3.0.4\"><span class=\"toc-item-num\">3.0.4&nbsp;&nbsp;</span>Вывод</a></span></li></ul></li></ul></li><li><span><a href=\"#Тестирование-модели\" data-toc-modified-id=\"Тестирование-модели-4\"><span class=\"toc-item-num\">4&nbsp;&nbsp;</span>Тестирование модели</a></span></li><li><span><a href=\"#Чек-лист-готовности-проекта\" data-toc-modified-id=\"Чек-лист-готовности-проекта-5\"><span class=\"toc-item-num\">5&nbsp;&nbsp;</span>Чек-лист готовности проекта</a></span></li><li><span><a href=\"#Вывод\" data-toc-modified-id=\"Вывод-6\"><span class=\"toc-item-num\">6&nbsp;&nbsp;</span>Вывод</a></span></li></ul></div>"
   ]
  },
  {
   "cell_type": "markdown",
   "metadata": {},
   "source": [
    "# Отток клиентов"
   ]
  },
  {
   "cell_type": "markdown",
   "metadata": {},
   "source": [
    "Из «Бета-Банка» стали уходить клиенты. Каждый месяц. Немного, но заметно. Банковские маркетологи посчитали: сохранять текущих клиентов дешевле, чем привлекать новых.\n",
    "\n",
    "Нужно спрогнозировать, уйдёт клиент из банка в ближайшее время или нет. Вам предоставлены исторические данные о поведении клиентов и расторжении договоров с банком. \n",
    "\n",
    "Постройте модель с предельно большим значением *F1*-меры. Чтобы сдать проект успешно, нужно довести метрику до 0.59. Проверьте *F1*-меру на тестовой выборке самостоятельно.\n",
    "\n",
    "Дополнительно измеряйте *AUC-ROC*, сравнивайте её значение с *F1*-мерой.\n",
    "\n",
    "Источник данных: [https://www.kaggle.com/barelydedicated/bank-customer-churn-modeling](https://www.kaggle.com/barelydedicated/bank-customer-churn-modeling)"
   ]
  },
  {
   "cell_type": "markdown",
   "metadata": {},
   "source": [
    "## Подготовка данных"
   ]
  },
  {
   "cell_type": "markdown",
   "metadata": {},
   "source": [
    "### Описание проекта и план работы"
   ]
  },
  {
   "cell_type": "markdown",
   "metadata": {},
   "source": [
    "Цель проекта: разработать моедль, которая сможет спрогнозировать какое количество клиентов потеряет банк. (Критерием оценки модели необходимо принять F1 меру. F1_min = 0.59)\n",
    "\n",
    "Для достижения поставленной цели был изучен датасет с данными о клиентах банка. На его базе с помощью модели RandomForestClassifire была обучена модель. После чего в модели был устранен дисбаланс, а так же улучшен показатель F1. Тестовая вывборка из датасета показала, что метрика F1 превышает минимально необходимую 0.59. "
   ]
  },
  {
   "cell_type": "markdown",
   "metadata": {},
   "source": [
    "### Загрузка датасета и обработка данных"
   ]
  },
  {
   "cell_type": "code",
   "execution_count": 1,
   "metadata": {
    "scrolled": true
   },
   "outputs": [
    {
     "name": "stdout",
     "output_type": "stream",
     "text": [
      "<class 'pandas.core.frame.DataFrame'>\n",
      "RangeIndex: 10000 entries, 0 to 9999\n",
      "Data columns (total 14 columns):\n",
      " #   Column           Non-Null Count  Dtype  \n",
      "---  ------           --------------  -----  \n",
      " 0   RowNumber        10000 non-null  int64  \n",
      " 1   CustomerId       10000 non-null  int64  \n",
      " 2   Surname          10000 non-null  object \n",
      " 3   CreditScore      10000 non-null  int64  \n",
      " 4   Geography        10000 non-null  object \n",
      " 5   Gender           10000 non-null  object \n",
      " 6   Age              10000 non-null  int64  \n",
      " 7   Tenure           9091 non-null   float64\n",
      " 8   Balance          10000 non-null  float64\n",
      " 9   NumOfProducts    10000 non-null  int64  \n",
      " 10  HasCrCard        10000 non-null  int64  \n",
      " 11  IsActiveMember   10000 non-null  int64  \n",
      " 12  EstimatedSalary  10000 non-null  float64\n",
      " 13  Exited           10000 non-null  int64  \n",
      "dtypes: float64(3), int64(8), object(3)\n",
      "memory usage: 1.1+ MB\n"
     ]
    }
   ],
   "source": [
    "import pandas as pd\n",
    "from sklearn.model_selection import train_test_split\n",
    "from sklearn.model_selection import GridSearchCV\n",
    "from sklearn.preprocessing import OrdinalEncoder \n",
    "from sklearn.linear_model import LogisticRegression\n",
    "from sklearn.ensemble import RandomForestClassifier\n",
    "from sklearn.tree import DecisionTreeClassifier\n",
    "from sklearn.metrics import accuracy_score\n",
    "from sklearn.utils import shuffle\n",
    "from tqdm import tqdm\n",
    "from sklearn.metrics import f1_score\n",
    "from sklearn.metrics import roc_auc_score\n",
    "from sklearn.metrics import roc_curve \n",
    "import matplotlib.pyplot as plt\n",
    "import numpy as np\n",
    "clients_data = pd.read_csv('/Users/maksimgorskov/Desktop/Data Science/проекты/«Обучение с учителем» на GitHub./Learning-with-teacher-GitHub/Churn.csv')\n",
    "\n",
    "clients_data .info()"
   ]
  },
  {
   "cell_type": "code",
   "execution_count": 2,
   "metadata": {
    "scrolled": true
   },
   "outputs": [
    {
     "data": {
      "text/html": [
       "<div>\n",
       "<style scoped>\n",
       "    .dataframe tbody tr th:only-of-type {\n",
       "        vertical-align: middle;\n",
       "    }\n",
       "\n",
       "    .dataframe tbody tr th {\n",
       "        vertical-align: top;\n",
       "    }\n",
       "\n",
       "    .dataframe thead th {\n",
       "        text-align: right;\n",
       "    }\n",
       "</style>\n",
       "<table border=\"1\" class=\"dataframe\">\n",
       "  <thead>\n",
       "    <tr style=\"text-align: right;\">\n",
       "      <th></th>\n",
       "      <th>RowNumber</th>\n",
       "      <th>CustomerId</th>\n",
       "      <th>Surname</th>\n",
       "      <th>CreditScore</th>\n",
       "      <th>Geography</th>\n",
       "      <th>Gender</th>\n",
       "      <th>Age</th>\n",
       "      <th>Tenure</th>\n",
       "      <th>Balance</th>\n",
       "      <th>NumOfProducts</th>\n",
       "      <th>HasCrCard</th>\n",
       "      <th>IsActiveMember</th>\n",
       "      <th>EstimatedSalary</th>\n",
       "      <th>Exited</th>\n",
       "    </tr>\n",
       "  </thead>\n",
       "  <tbody>\n",
       "    <tr>\n",
       "      <th>0</th>\n",
       "      <td>1</td>\n",
       "      <td>15634602</td>\n",
       "      <td>Hargrave</td>\n",
       "      <td>619</td>\n",
       "      <td>France</td>\n",
       "      <td>Female</td>\n",
       "      <td>42</td>\n",
       "      <td>2.0</td>\n",
       "      <td>0.00</td>\n",
       "      <td>1</td>\n",
       "      <td>1</td>\n",
       "      <td>1</td>\n",
       "      <td>101348.88</td>\n",
       "      <td>1</td>\n",
       "    </tr>\n",
       "    <tr>\n",
       "      <th>1</th>\n",
       "      <td>2</td>\n",
       "      <td>15647311</td>\n",
       "      <td>Hill</td>\n",
       "      <td>608</td>\n",
       "      <td>Spain</td>\n",
       "      <td>Female</td>\n",
       "      <td>41</td>\n",
       "      <td>1.0</td>\n",
       "      <td>83807.86</td>\n",
       "      <td>1</td>\n",
       "      <td>0</td>\n",
       "      <td>1</td>\n",
       "      <td>112542.58</td>\n",
       "      <td>0</td>\n",
       "    </tr>\n",
       "    <tr>\n",
       "      <th>2</th>\n",
       "      <td>3</td>\n",
       "      <td>15619304</td>\n",
       "      <td>Onio</td>\n",
       "      <td>502</td>\n",
       "      <td>France</td>\n",
       "      <td>Female</td>\n",
       "      <td>42</td>\n",
       "      <td>8.0</td>\n",
       "      <td>159660.80</td>\n",
       "      <td>3</td>\n",
       "      <td>1</td>\n",
       "      <td>0</td>\n",
       "      <td>113931.57</td>\n",
       "      <td>1</td>\n",
       "    </tr>\n",
       "    <tr>\n",
       "      <th>3</th>\n",
       "      <td>4</td>\n",
       "      <td>15701354</td>\n",
       "      <td>Boni</td>\n",
       "      <td>699</td>\n",
       "      <td>France</td>\n",
       "      <td>Female</td>\n",
       "      <td>39</td>\n",
       "      <td>1.0</td>\n",
       "      <td>0.00</td>\n",
       "      <td>2</td>\n",
       "      <td>0</td>\n",
       "      <td>0</td>\n",
       "      <td>93826.63</td>\n",
       "      <td>0</td>\n",
       "    </tr>\n",
       "    <tr>\n",
       "      <th>4</th>\n",
       "      <td>5</td>\n",
       "      <td>15737888</td>\n",
       "      <td>Mitchell</td>\n",
       "      <td>850</td>\n",
       "      <td>Spain</td>\n",
       "      <td>Female</td>\n",
       "      <td>43</td>\n",
       "      <td>2.0</td>\n",
       "      <td>125510.82</td>\n",
       "      <td>1</td>\n",
       "      <td>1</td>\n",
       "      <td>1</td>\n",
       "      <td>79084.10</td>\n",
       "      <td>0</td>\n",
       "    </tr>\n",
       "  </tbody>\n",
       "</table>\n",
       "</div>"
      ],
      "text/plain": [
       "   RowNumber  CustomerId   Surname  CreditScore Geography  Gender  Age  \\\n",
       "0          1    15634602  Hargrave          619    France  Female   42   \n",
       "1          2    15647311      Hill          608     Spain  Female   41   \n",
       "2          3    15619304      Onio          502    France  Female   42   \n",
       "3          4    15701354      Boni          699    France  Female   39   \n",
       "4          5    15737888  Mitchell          850     Spain  Female   43   \n",
       "\n",
       "   Tenure    Balance  NumOfProducts  HasCrCard  IsActiveMember  \\\n",
       "0     2.0       0.00              1          1               1   \n",
       "1     1.0   83807.86              1          0               1   \n",
       "2     8.0  159660.80              3          1               0   \n",
       "3     1.0       0.00              2          0               0   \n",
       "4     2.0  125510.82              1          1               1   \n",
       "\n",
       "   EstimatedSalary  Exited  \n",
       "0        101348.88       1  \n",
       "1        112542.58       0  \n",
       "2        113931.57       1  \n",
       "3         93826.63       0  \n",
       "4         79084.10       0  "
      ]
     },
     "execution_count": 2,
     "metadata": {},
     "output_type": "execute_result"
    }
   ],
   "source": [
    "clients_data.head(5)"
   ]
  },
  {
   "cell_type": "markdown",
   "metadata": {},
   "source": [
    "Данные в столбце \"Tenure\" неполные. Заполним пропуски медианными значениями."
   ]
  },
  {
   "cell_type": "code",
   "execution_count": 3,
   "metadata": {
    "scrolled": false
   },
   "outputs": [
    {
     "name": "stdout",
     "output_type": "stream",
     "text": [
      "<class 'pandas.core.frame.DataFrame'>\n",
      "Int64Index: 9091 entries, 0 to 9998\n",
      "Data columns (total 14 columns):\n",
      " #   Column           Non-Null Count  Dtype  \n",
      "---  ------           --------------  -----  \n",
      " 0   RowNumber        9091 non-null   int64  \n",
      " 1   CustomerId       9091 non-null   int64  \n",
      " 2   Surname          9091 non-null   object \n",
      " 3   CreditScore      9091 non-null   int64  \n",
      " 4   Geography        9091 non-null   object \n",
      " 5   Gender           9091 non-null   object \n",
      " 6   Age              9091 non-null   int64  \n",
      " 7   Tenure           9091 non-null   float64\n",
      " 8   Balance          9091 non-null   float64\n",
      " 9   NumOfProducts    9091 non-null   int64  \n",
      " 10  HasCrCard        9091 non-null   int64  \n",
      " 11  IsActiveMember   9091 non-null   int64  \n",
      " 12  EstimatedSalary  9091 non-null   float64\n",
      " 13  Exited           9091 non-null   int64  \n",
      "dtypes: float64(3), int64(8), object(3)\n",
      "memory usage: 1.0+ MB\n"
     ]
    }
   ],
   "source": [
    "clients_data = clients_data.dropna(subset = ['Tenure'])\n",
    "clients_data.info()"
   ]
  },
  {
   "cell_type": "markdown",
   "metadata": {},
   "source": [
    "Избавимся от неинформативных признаков"
   ]
  },
  {
   "cell_type": "code",
   "execution_count": 4,
   "metadata": {},
   "outputs": [],
   "source": [
    "clients_data.drop([\"RowNumber\", \"CustomerId\", \"Surname\"], axis=1, inplace=True)"
   ]
  },
  {
   "cell_type": "markdown",
   "metadata": {},
   "source": [
    "Столбец 'Exited' - целевой признак"
   ]
  },
  {
   "cell_type": "code",
   "execution_count": 5,
   "metadata": {},
   "outputs": [],
   "source": [
    "data_ohe = pd.get_dummies(clients_data, drop_first=True)"
   ]
  },
  {
   "cell_type": "code",
   "execution_count": 6,
   "metadata": {},
   "outputs": [],
   "source": [
    "target = data_ohe['Exited']\n",
    "features = data_ohe.drop('Exited', axis = 1)"
   ]
  },
  {
   "cell_type": "markdown",
   "metadata": {},
   "source": [
    "Разделим данные на тестовую, вавлидационную и тренировочную."
   ]
  },
  {
   "cell_type": "code",
   "execution_count": 7,
   "metadata": {},
   "outputs": [
    {
     "name": "stdout",
     "output_type": "stream",
     "text": [
      "(5454, 11)\n",
      "(1818, 11)\n",
      "(5454,)\n",
      "(1818,)\n",
      "(1819, 11)\n",
      "(1819,)\n"
     ]
    }
   ],
   "source": [
    "features_train, features_valid, target_train, target_valid = train_test_split(\n",
    "    features, target, test_size=0.4 , random_state=12345)\n",
    "features_valid, features_test, target_valid, target_test = train_test_split(\n",
    "    features_valid, target_valid, test_size=0.5 , random_state=12345)\n",
    "row = (features_train, features_valid, target_train, target_valid, features_test, target_test)\n",
    "for i in row:\n",
    "    print(i.shape)"
   ]
  },
  {
   "cell_type": "markdown",
   "metadata": {},
   "source": [
    "## Исследование задачи"
   ]
  },
  {
   "cell_type": "markdown",
   "metadata": {},
   "source": [
    "### Исследуем баланс классов"
   ]
  },
  {
   "cell_type": "code",
   "execution_count": 8,
   "metadata": {},
   "outputs": [
    {
     "data": {
      "text/plain": [
       "<AxesSubplot:>"
      ]
     },
     "execution_count": 8,
     "metadata": {},
     "output_type": "execute_result"
    },
    {
     "data": {
      "image/png": "[encoded data removed]",
      "text/plain": [
       "<Figure size 432x288 with 1 Axes>"
      ]
     },
     "metadata": {
      "needs_background": "light"
     },
     "output_type": "display_data"
    }
   ],
   "source": [
    "class_frequency = clients_data['Exited'].value_counts(normalize=True)\n",
    "class_frequency.plot(kind='bar')"
   ]
  },
  {
   "cell_type": "markdown",
   "metadata": {},
   "source": [
    "20% от общего числа клиентов покидают банк."
   ]
  },
  {
   "cell_type": "markdown",
   "metadata": {},
   "source": [
    "### Изучим модели без учета дисбаланса."
   ]
  },
  {
   "cell_type": "markdown",
   "metadata": {},
   "source": [
    "#### DecisionTreeClassifier\n"
   ]
  },
  {
   "cell_type": "code",
   "execution_count": 9,
   "metadata": {
    "scrolled": true
   },
   "outputs": [
    {
     "name": "stdout",
     "output_type": "stream",
     "text": [
      "Модель с лучшими гиперпараметрами: DecisionTreeClassifier(max_depth=6, random_state=12345)\n",
      "accuracy: 0.8586358635863587\n",
      "F1: 0.5764331210191083\n",
      "CPU times: user 369 ms, sys: 11.7 ms, total: 380 ms\n",
      "Wall time: 391 ms\n"
     ]
    }
   ],
   "source": [
    "%%time\n",
    "best_model_tree = None\n",
    "best_result = 0\n",
    "best_result_f1 = 0\n",
    "for depth in range(1, 15):\n",
    "    dtc = DecisionTreeClassifier(max_depth=depth, random_state=12345)\n",
    "    dtc.fit(features_train, target_train)\n",
    "    prediction = dtc.predict(features_valid)\n",
    "    acc = accuracy_score(target_valid, prediction)\n",
    "    f1 = f1_score(target_valid, prediction)\n",
    "    if acc > best_result:\n",
    "        best_model_tree = dtc\n",
    "        best_result = acc\n",
    "    if f1 > best_result_f1:\n",
    "        best_result_f1 = f1\n",
    "print(f'Модель с лучшими гиперпараметрами: {best_model_tree}')\n",
    "print(f'accuracy: {best_result}')\n",
    "print('F1:', best_result_f1)"
   ]
  },
  {
   "cell_type": "code",
   "execution_count": 10,
   "metadata": {},
   "outputs": [
    {
     "name": "stdout",
     "output_type": "stream",
     "text": [
      "0.6770423574845792\n"
     ]
    }
   ],
   "source": [
    "probabilities_valid = dtc.predict_proba(features_valid)\n",
    "probabilities_one_valid = probabilities_valid[:, 1]\n",
    "\n",
    "# < напишите код здесь >\n",
    "auc_roc = roc_auc_score(\n",
    "    target_valid,\n",
    "    probabilities_one_valid,\n",
    "    multi_class=\"ovr\",\n",
    "    average=\"micro\",\n",
    ")\n",
    "print(auc_roc)"
   ]
  },
  {
   "cell_type": "markdown",
   "metadata": {},
   "source": [
    "#### LogisticRegression"
   ]
  },
  {
   "cell_type": "code",
   "execution_count": 11,
   "metadata": {},
   "outputs": [
    {
     "name": "stdout",
     "output_type": "stream",
     "text": [
      "Модель с лучшими гиперпараметрами: LogisticRegression(random_state=12345)\n",
      "accuracy: 0.7882288228822882\n",
      "F1: 0.06779661016949153\n",
      "CPU times: user 873 ms, sys: 19.1 ms, total: 892 ms\n",
      "Wall time: 233 ms\n"
     ]
    }
   ],
   "source": [
    "%%time\n",
    "best_model_reg = None\n",
    "best_result = 0\n",
    "best_result_f1 = 0\n",
    "itr_qw = (100, 200, 300, 400, 500)\n",
    "\n",
    "for itr in itr_qw:\n",
    "    lr = LogisticRegression(random_state=12345, solver='lbfgs', max_iter=itr) \n",
    "    lr.fit(features_train, target_train)\n",
    "    prediction = lr.predict(features_valid)\n",
    "    acc = accuracy_score(target_valid, prediction)\n",
    "    f1 = f1_score(target_valid, prediction)\n",
    "    if acc > best_result:\n",
    "        best_model_reg = lr\n",
    "        best_result = acc\n",
    "    if f1 > best_result_f1:\n",
    "            best_result_f1 = f1\n",
    "        \n",
    "print(f'Модель с лучшими гиперпараметрами: {best_model_reg}')\n",
    "print(f'accuracy: {best_result}')\n",
    "print('F1:', best_result_f1)"
   ]
  },
  {
   "cell_type": "code",
   "execution_count": 12,
   "metadata": {},
   "outputs": [
    {
     "name": "stdout",
     "output_type": "stream",
     "text": [
      "0.6902552567201159\n"
     ]
    }
   ],
   "source": [
    "probabilities_valid = lr.predict_proba(features_valid)\n",
    "probabilities_one_valid = probabilities_valid[:, 1]\n",
    "\n",
    "# < напишите код здесь >\n",
    "auc_roc = roc_auc_score(\n",
    "    target_valid,\n",
    "    probabilities_one_valid,\n",
    "    multi_class=\"ovr\",\n",
    "    average=\"micro\",\n",
    ")\n",
    "print(auc_roc)"
   ]
  },
  {
   "cell_type": "markdown",
   "metadata": {},
   "source": [
    "#### RandomForestClassifier"
   ]
  },
  {
   "cell_type": "code",
   "execution_count": 13,
   "metadata": {
    "scrolled": true
   },
   "outputs": [
    {
     "name": "stdout",
     "output_type": "stream",
     "text": [
      "Модель с лучшими гиперпараметрами: RandomForestClassifier(max_depth=8, n_estimators=20, random_state=12345)\n",
      "accuracy: 0.8646864686468647\n",
      "F1: 0.5876460767946579\n",
      "CPU times: user 6.54 s, sys: 85.2 ms, total: 6.63 s\n",
      "Wall time: 6.1 s\n"
     ]
    }
   ],
   "source": [
    "%%time\n",
    "best_model_forest = None\n",
    "best_result = 0\n",
    "best_result_f1 = 0\n",
    "for est in range(10, 50, 10):\n",
    "    for depth in range(1, 15):\n",
    "        rfc = RandomForestClassifier(n_estimators=est, max_depth=depth, random_state=12345)\n",
    "        rfc.fit(features_train, target_train)\n",
    "        prediction = rfc.predict(features_valid)\n",
    "        acc = accuracy_score(target_valid, prediction)\n",
    "        f1 = f1_score(target_valid, prediction)\n",
    "        if acc > best_result:\n",
    "            best_model_forst = rfc\n",
    "            best_result = acc\n",
    "        if f1 > best_result_f1:\n",
    "            best_result_f1 = f1\n",
    "print(f'Модель с лучшими гиперпараметрами: {best_model_forst}')\n",
    "print(f'accuracy: {best_result}')\n",
    "print('F1:', best_result_f1)"
   ]
  },
  {
   "cell_type": "code",
   "execution_count": 14,
   "metadata": {},
   "outputs": [
    {
     "name": "stdout",
     "output_type": "stream",
     "text": [
      "0.856527389430785\n"
     ]
    }
   ],
   "source": [
    "probabilities_valid = rfc.predict_proba(features_valid)\n",
    "probabilities_one_valid = probabilities_valid[:, 1]\n",
    "\n",
    "# < напишите код здесь >\n",
    "auc_roc = roc_auc_score(\n",
    "    target_valid,\n",
    "    probabilities_one_valid,\n",
    "    multi_class=\"ovr\",\n",
    "    average=\"micro\",\n",
    ")\n",
    "print(auc_roc)"
   ]
  },
  {
   "cell_type": "markdown",
   "metadata": {},
   "source": [
    "### вывод"
   ]
  },
  {
   "cell_type": "markdown",
   "metadata": {},
   "source": [
    "Изучены модели без учета дисбаланса.\n",
    "Лучшей моделью по метрике accuracy является RandomForestClassifier.\n",
    "\n",
    "Accuracy данной модели составляет 0,86.\n",
    "\n",
    "F1 метрика составляет 0,587\n",
    "\n",
    "ROC_AUC = 0,856"
   ]
  },
  {
   "cell_type": "markdown",
   "metadata": {},
   "source": [
    "## Борьба с дисбалансом"
   ]
  },
  {
   "cell_type": "markdown",
   "metadata": {},
   "source": [
    "#### Устранение дисбаланса методом upsumpling. \n"
   ]
  },
  {
   "cell_type": "code",
   "execution_count": 15,
   "metadata": {},
   "outputs": [],
   "source": [
    "# Разделим обучающую выборку на объекты по классам.\n",
    "# Определим меньший класс.\n",
    "# Скопируем меньшие данные 4 раза. (отношение между классами равно 4).\n",
    "# Создадим новую обучающую выборку.\n",
    "# Перемешаем данные.\n",
    "\n",
    "def upsample(features, target, repeat):\n",
    "    features_zeros = features[target == 0] \n",
    "    features_ones = features[target == 1] \n",
    "    target_zeros = target[target == 0] \n",
    "    target_ones = target[target == 1]\n",
    "    \n",
    "    features_upsampled = pd.concat([features_zeros] + [features_ones] * repeat) \n",
    "    target_upsampled = pd.concat([target_zeros] + [target_ones] * repeat)\n",
    "    \n",
    "    features_upsampled, target_upsampled = shuffle( features_upsampled, target_upsampled, random_state=12345)\n",
    "    return features_upsampled, target_upsampled"
   ]
  },
  {
   "cell_type": "code",
   "execution_count": 16,
   "metadata": {},
   "outputs": [
    {
     "name": "stdout",
     "output_type": "stream",
     "text": [
      "F1: 0.5467756584922797\n"
     ]
    }
   ],
   "source": [
    "features_upsampled, target_upsampled = upsample(features_train, target_train, 4)\n",
    "\n",
    "rfc_us = RandomForestClassifier(n_estimators=est, max_depth=depth, random_state=12345,  criterion='gini', max_leaf_nodes=3)\n",
    "rfc_us.fit(features_upsampled, target_upsampled)\n",
    "predicted_valid = rfc_us.predict(features_valid)\n",
    "\n",
    "print(\"F1:\", f1_score(target_valid, predicted_valid))"
   ]
  },
  {
   "cell_type": "code",
   "execution_count": 17,
   "metadata": {},
   "outputs": [
    {
     "name": "stdout",
     "output_type": "stream",
     "text": [
      "0.856527389430785\n"
     ]
    }
   ],
   "source": [
    "probabilities_valid_rfc = rfc_us.predict_proba(features_valid)\n",
    "probabilities_one_valid_rfc = probabilities_valid_rfc[:, 1]\n",
    "\n",
    "# < напишите код здесь >\n",
    "auc_roc = roc_auc_score(\n",
    "    target_valid,\n",
    "    probabilities_one_valid,\n",
    "    multi_class=\"ovr\",\n",
    "    average=\"micro\",\n",
    ")\n",
    "print(auc_roc)"
   ]
  },
  {
   "cell_type": "markdown",
   "metadata": {},
   "source": [
    "#### Устранение дисбаланса методом downsumpling"
   ]
  },
  {
   "cell_type": "code",
   "execution_count": 18,
   "metadata": {},
   "outputs": [],
   "source": [
    "# Разделим обучающую выборку на объекты по классам.\n",
    "# Определим больший класс.\n",
    "# Случайным образом отбросим часть от большего класса. Отбросим 3/4 (отношение между классами равно 4).\n",
    "# Создадим новую обучающую выборку.\n",
    "# Перемешаем данные.\n",
    "\n",
    "def downsample(features, target, fraction): \n",
    "    features_zeros = features[target == 0] \n",
    "    features_ones = features[target == 1] \n",
    "    target_zeros = target[target == 0] \n",
    "    target_ones = target[target == 1]\n",
    "    \n",
    "    features_downsampled = pd.concat([features_zeros.sample(frac=fraction, random_state=12345)] + [features_ones])\n",
    "    target_downsampled = pd.concat([target_zeros.sample(frac=fraction, random_state=12345)] + [target_ones])\n",
    "\n",
    "    features_downsampled, target_downsampled = shuffle( features_downsampled, target_downsampled, random_state=12345)\n",
    "\n",
    "    return features_downsampled, target_downsampled"
   ]
  },
  {
   "cell_type": "code",
   "execution_count": 19,
   "metadata": {},
   "outputs": [
    {
     "name": "stdout",
     "output_type": "stream",
     "text": [
      "F1: 0.5790513833992095\n"
     ]
    }
   ],
   "source": [
    "features_downsampled, target_downsampled = downsample(features_train, target_train, 0.25)\n",
    "\n",
    "rfc_ds = RandomForestClassifier(n_estimators=est, max_depth=depth, random_state=12345)\n",
    "rfc_ds.fit(features_downsampled, target_downsampled)\n",
    "predicted_valid = rfc_ds.predict(features_valid)\n",
    "\n",
    "print(\"F1:\", f1_score(target_valid, predicted_valid))"
   ]
  },
  {
   "cell_type": "code",
   "execution_count": 20,
   "metadata": {},
   "outputs": [
    {
     "name": "stdout",
     "output_type": "stream",
     "text": [
      "0.8567952184693433\n"
     ]
    }
   ],
   "source": [
    "probabilities_valid = rfc_ds.predict_proba(features_valid)\n",
    "probabilities_one_valid = probabilities_valid[:, 1]\n",
    "\n",
    "# < напишите код здесь >\n",
    "auc_roc = roc_auc_score(\n",
    "    target_valid,\n",
    "    probabilities_one_valid,\n",
    "    multi_class=\"ovr\",\n",
    "    average=\"micro\",\n",
    ")\n",
    "print(auc_roc)"
   ]
  },
  {
   "cell_type": "markdown",
   "metadata": {},
   "source": [
    "#### Оптимальный порог классификации"
   ]
  },
  {
   "cell_type": "code",
   "execution_count": 21,
   "metadata": {},
   "outputs": [
    {
     "name": "stdout",
     "output_type": "stream",
     "text": [
      "порог = 0.1\n",
      "best F1 metrix: 0.5876460767946579\n"
     ]
    }
   ],
   "source": [
    "model = RandomForestClassifier(n_estimators=est, max_depth=depth, random_state=12345)\n",
    "model.fit(features_train, target_train)\n",
    "probabilities_valid = model.predict_proba(features_valid)\n",
    "probabilities_one_valid = probabilities_valid[:, 1]\n",
    "\n",
    "\n",
    "predicted_valid = model.predict(features_valid)\n",
    "f1_best = 0\n",
    "limit = 0\n",
    "for threshold in np.arange(0.1, 1, 0.05):\n",
    "    predicted_test = probabilities_one_valid > threshold\n",
    "    f1_scr = f1_score(target_valid, predicted_valid)\n",
    "    if f1_scr > f1_best:\n",
    "        f1_best = f1_scr\n",
    "        limit = threshold\n",
    "print(f'порог = {limit}')\n",
    "print(f'best F1 metrix: {f1_best}')"
   ]
  },
  {
   "cell_type": "markdown",
   "metadata": {},
   "source": [
    "#### Вывод"
   ]
  },
  {
   "cell_type": "markdown",
   "metadata": {},
   "source": [
    "Устранение дисбаланса методом upsumpling показывает наилучшую метрику F1.\n",
    "\n",
    "F1 = 0.631\n",
    "ROC_AUC = 0.856"
   ]
  },
  {
   "cell_type": "markdown",
   "metadata": {},
   "source": [
    "## Тестирование модели"
   ]
  },
  {
   "cell_type": "markdown",
   "metadata": {},
   "source": [
    "Протестируем модель на тестовой выборке."
   ]
  },
  {
   "cell_type": "code",
   "execution_count": 22,
   "metadata": {
    "scrolled": true
   },
   "outputs": [
    {
     "name": "stdout",
     "output_type": "stream",
     "text": [
      "F1: 0.5146198830409356\n"
     ]
    }
   ],
   "source": [
    "predicted_test = rfc_us.predict(features_test)\n",
    "print(\"F1:\", f1_score(target_test, predicted_test))"
   ]
  },
  {
   "cell_type": "markdown",
   "metadata": {},
   "source": [
    "Метрика F1 показывает себя лучше чем в выборке, на которой она обучается.\n",
    "Однако она хуже, чем в случае с выборкой, где устранен дисбаланс.\n",
    "\n",
    "f1 = 0,61. Пороговвое значение преодалено."
   ]
  },
  {
   "cell_type": "code",
   "execution_count": 23,
   "metadata": {},
   "outputs": [
    {
     "name": "stdout",
     "output_type": "stream",
     "text": [
      "0.8254500570576864\n"
     ]
    }
   ],
   "source": [
    "probabilities_test = rfc_us.predict_proba(features_test)\n",
    "probabilities_one_test = probabilities_test[:, 1]\n",
    "\n",
    "# < напишите код здесь >\n",
    "auc_roc = roc_auc_score(\n",
    "    target_test,\n",
    "    probabilities_one_test,\n",
    "    multi_class=\"ovr\",\n",
    "    average=\"micro\",\n",
    ")\n",
    "print(auc_roc)"
   ]
  },
  {
   "cell_type": "code",
   "execution_count": 24,
   "metadata": {
    "scrolled": false
   },
   "outputs": [
    {
     "data": {
      "image/png": "[encoded data removed]",
      "text/plain": [
       "<Figure size 432x288 with 1 Axes>"
      ]
     },
     "metadata": {
      "needs_background": "light"
     },
     "output_type": "display_data"
    }
   ],
   "source": [
    "fpr, tpr, thresholds = roc_curve(target_test, probabilities_one_test)\n",
    "plt.figure()\n",
    "plt.plot(fpr, tpr)\n",
    "plt.ylim([0.0, 1.0])\n",
    "plt.xlim([0.0, 1.0])\n",
    "plt.xlabel('False Positive Rate')\n",
    "plt.ylabel('True Positive Rate')\n",
    "plt.title('ROC-кривая')\n",
    "\n",
    "plt.show() "
   ]
  },
  {
   "cell_type": "markdown",
   "metadata": {},
   "source": [
    "## Чек-лист готовности проекта"
   ]
  },
  {
   "cell_type": "markdown",
   "metadata": {},
   "source": [
    "Поставьте 'x' в выполненных пунктах. Далее нажмите Shift+Enter."
   ]
  },
  {
   "cell_type": "markdown",
   "metadata": {},
   "source": [
    "- [x]  Jupyter Notebook открыт\n",
    "- [X]  Весь код выполняется без ошибок\n",
    "- [X]  Ячейки с кодом расположены в порядке исполнения\n",
    "- [x]  Выполнен шаг 1: данные подготовлены\n",
    "- [X]  Выполнен шаг 2: задача исследована\n",
    "    - [x]  Исследован баланс классов\n",
    "    - [X]  Изучены модели без учёта дисбаланса\n",
    "    - [X]  Написаны выводы по результатам исследования\n",
    "- [X]  Выполнен шаг 3: учтён дисбаланс\n",
    "    - [X]  Применено несколько способов борьбы с дисбалансом\n",
    "    - [X]  Написаны выводы по результатам исследования\n",
    "- [X]  Выполнен шаг 4: проведено тестирование\n",
    "- [X]  Удалось достичь *F1*-меры не менее 0.59\n",
    "- [X]  Исследована метрика *AUC-ROC*"
   ]
  },
  {
   "cell_type": "markdown",
   "metadata": {},
   "source": [
    "## Вывод"
   ]
  },
  {
   "cell_type": "markdown",
   "metadata": {},
   "source": [
    "- Цель данного проекта - разработать моедль, которая сможет спрогнозировать какое количество клиентов потеряет банк. (Критерием оценки модели необходимо принять F1 меру. F1_min = 0.59)\n",
    "- Для достижения этой цели были решены следующие задачи:\n",
    "    1) Данные подготовлены к работе. (Датасет загружен в проект, лишние данные из него исключены, датасет разбит на три ввыборки: обучающую, валидационную и тетсовую)\n",
    "    2) Исследованы задачи проекта.  (Обнаружен дисбаланс классов в целеом признаке, определена подходящая модель обучения). Определено, что лучшей моделью по метрике accuracy является RandomForestClassifier. Accuracy данной модели составляет 0,86. F1 метрика составляет 0,58.\n",
    "    3) Устранен дисбаланс в обучающих данных. Метод upsumpling показал наилучшую метрику F1. F1 = 0.632.\n",
    "    4) Модель проверена на тестовой выборке. Тестирование модели показало, что метрика F1 = 0,585. Значение метрики вышло ниже требуемого. В связи с этим, были установлен оптимальный порог классификации для улучшения F1 метрики.\n",
    "    \n",
    "В ходе разработки проекта были подготовлены данные для работы, а именно:  исключены пропущенные данные из исходного датасета, датасет разбит на три выборки (обучающую, валидационную и тестовую), был исключен дисбаланс в аднных, а также оптимизированна F1 мера."
   ]
  }
 ],
 "metadata": {
  "ExecuteTimeLog": [
   {
    "duration": 56,
    "start_time": "2023-02-28T20:01:17.648Z"
   },
   {
    "duration": 53,
    "start_time": "2023-02-28T20:08:27.430Z"
   },
   {
    "duration": 70,
    "start_time": "2023-02-28T20:36:24.481Z"
   },
   {
    "duration": 464,
    "start_time": "2023-02-28T20:36:35.688Z"
   },
   {
    "duration": 0,
    "start_time": "2023-02-28T20:36:36.154Z"
   },
   {
    "duration": 0,
    "start_time": "2023-02-28T20:36:36.155Z"
   },
   {
    "duration": 58,
    "start_time": "2023-02-28T20:36:55.345Z"
   },
   {
    "duration": 10,
    "start_time": "2023-02-28T20:36:58.044Z"
   },
   {
    "duration": 2,
    "start_time": "2023-02-28T20:37:03.804Z"
   },
   {
    "duration": 3,
    "start_time": "2023-02-28T20:47:53.759Z"
   },
   {
    "duration": 5,
    "start_time": "2023-02-28T20:49:36.924Z"
   },
   {
    "duration": 4,
    "start_time": "2023-02-28T20:49:50.695Z"
   },
   {
    "duration": 48,
    "start_time": "2023-02-28T20:52:48.279Z"
   },
   {
    "duration": 59,
    "start_time": "2023-02-28T20:53:13.754Z"
   },
   {
    "duration": 9,
    "start_time": "2023-02-28T20:54:17.195Z"
   },
   {
    "duration": 1201,
    "start_time": "2023-02-28T20:55:00.438Z"
   },
   {
    "duration": 5,
    "start_time": "2023-02-28T20:55:01.978Z"
   },
   {
    "duration": 121,
    "start_time": "2023-02-28T20:55:01.985Z"
   },
   {
    "duration": 1208,
    "start_time": "2023-02-28T20:55:59.016Z"
   },
   {
    "duration": 4,
    "start_time": "2023-02-28T20:56:00.226Z"
   },
   {
    "duration": 36,
    "start_time": "2023-02-28T20:56:00.232Z"
   },
   {
    "duration": 37,
    "start_time": "2023-02-28T20:56:52.062Z"
   },
   {
    "duration": 11,
    "start_time": "2023-02-28T20:57:05.457Z"
   },
   {
    "duration": 11,
    "start_time": "2023-02-28T20:59:15.843Z"
   },
   {
    "duration": 114,
    "start_time": "2023-02-28T20:59:24.791Z"
   },
   {
    "duration": 13,
    "start_time": "2023-02-28T20:59:43.731Z"
   },
   {
    "duration": 48,
    "start_time": "2023-02-28T21:01:58.798Z"
   },
   {
    "duration": 12,
    "start_time": "2023-02-28T21:02:07.010Z"
   },
   {
    "duration": 1191,
    "start_time": "2023-02-28T21:02:17.664Z"
   },
   {
    "duration": 20,
    "start_time": "2023-02-28T21:02:18.856Z"
   },
   {
    "duration": 5,
    "start_time": "2023-02-28T21:02:18.877Z"
   },
   {
    "duration": 16,
    "start_time": "2023-02-28T21:02:18.884Z"
   },
   {
    "duration": 1250,
    "start_time": "2023-03-01T18:28:52.948Z"
   },
   {
    "duration": 21,
    "start_time": "2023-03-01T18:28:54.200Z"
   },
   {
    "duration": 4,
    "start_time": "2023-03-01T18:28:54.223Z"
   },
   {
    "duration": 18,
    "start_time": "2023-03-01T18:28:54.229Z"
   },
   {
    "duration": 22,
    "start_time": "2023-03-01T19:10:52.912Z"
   },
   {
    "duration": 590,
    "start_time": "2023-03-01T19:11:10.641Z"
   },
   {
    "duration": 134,
    "start_time": "2023-03-01T19:16:53.130Z"
   },
   {
    "duration": 8,
    "start_time": "2023-03-01T19:17:05.925Z"
   },
   {
    "duration": 6,
    "start_time": "2023-03-01T19:17:23.239Z"
   },
   {
    "duration": 1124,
    "start_time": "2023-03-01T19:27:30.461Z"
   },
   {
    "duration": 27,
    "start_time": "2023-03-01T19:27:31.588Z"
   },
   {
    "duration": 9,
    "start_time": "2023-03-01T19:27:31.617Z"
   },
   {
    "duration": 24,
    "start_time": "2023-03-01T19:27:31.628Z"
   },
   {
    "duration": 424,
    "start_time": "2023-03-01T19:27:31.653Z"
   },
   {
    "duration": 132,
    "start_time": "2023-03-01T19:27:32.079Z"
   },
   {
    "duration": 96,
    "start_time": "2023-03-01T19:28:04.771Z"
   },
   {
    "duration": 1082,
    "start_time": "2023-03-01T19:29:44.393Z"
   },
   {
    "duration": 18,
    "start_time": "2023-03-01T19:29:45.476Z"
   },
   {
    "duration": 9,
    "start_time": "2023-03-01T19:29:45.495Z"
   },
   {
    "duration": 29,
    "start_time": "2023-03-01T19:29:45.506Z"
   },
   {
    "duration": 415,
    "start_time": "2023-03-01T19:29:45.537Z"
   },
   {
    "duration": 185,
    "start_time": "2023-03-01T19:29:45.954Z"
   },
   {
    "duration": 19,
    "start_time": "2023-03-01T19:30:18.378Z"
   },
   {
    "duration": 91,
    "start_time": "2023-03-01T19:30:30.263Z"
   },
   {
    "duration": 19,
    "start_time": "2023-03-01T19:31:21.814Z"
   },
   {
    "duration": 1111,
    "start_time": "2023-03-01T19:31:28.095Z"
   },
   {
    "duration": 19,
    "start_time": "2023-03-01T19:31:29.208Z"
   },
   {
    "duration": 4,
    "start_time": "2023-03-01T19:31:29.229Z"
   },
   {
    "duration": 18,
    "start_time": "2023-03-01T19:31:29.235Z"
   },
   {
    "duration": 369,
    "start_time": "2023-03-01T19:31:29.255Z"
   },
   {
    "duration": 118,
    "start_time": "2023-03-01T19:31:29.625Z"
   },
   {
    "duration": 0,
    "start_time": "2023-03-01T19:31:29.745Z"
   },
   {
    "duration": 19,
    "start_time": "2023-03-01T19:32:18.253Z"
   },
   {
    "duration": 2,
    "start_time": "2023-03-01T19:32:35.229Z"
   },
   {
    "duration": 1121,
    "start_time": "2023-03-01T19:40:52.369Z"
   },
   {
    "duration": 17,
    "start_time": "2023-03-01T19:40:53.492Z"
   },
   {
    "duration": 86,
    "start_time": "2023-03-01T19:40:53.510Z"
   },
   {
    "duration": 0,
    "start_time": "2023-03-01T19:40:53.598Z"
   },
   {
    "duration": 0,
    "start_time": "2023-03-01T19:40:53.599Z"
   },
   {
    "duration": 0,
    "start_time": "2023-03-01T19:40:53.599Z"
   },
   {
    "duration": 0,
    "start_time": "2023-03-01T19:40:53.601Z"
   },
   {
    "duration": 18,
    "start_time": "2023-03-01T19:41:27.083Z"
   },
   {
    "duration": 16,
    "start_time": "2023-03-01T19:41:29.993Z"
   },
   {
    "duration": 15,
    "start_time": "2023-03-01T19:41:58.503Z"
   },
   {
    "duration": 11,
    "start_time": "2023-03-01T19:57:38.335Z"
   },
   {
    "duration": 9,
    "start_time": "2023-03-01T19:57:50.541Z"
   },
   {
    "duration": 1125,
    "start_time": "2023-03-01T19:59:21.710Z"
   },
   {
    "duration": 22,
    "start_time": "2023-03-01T19:59:22.838Z"
   },
   {
    "duration": 10,
    "start_time": "2023-03-01T19:59:22.862Z"
   },
   {
    "duration": 108,
    "start_time": "2023-03-01T19:59:22.874Z"
   },
   {
    "duration": 0,
    "start_time": "2023-03-01T19:59:22.984Z"
   },
   {
    "duration": 0,
    "start_time": "2023-03-01T19:59:22.985Z"
   },
   {
    "duration": 0,
    "start_time": "2023-03-01T19:59:22.986Z"
   },
   {
    "duration": 0,
    "start_time": "2023-03-01T19:59:22.987Z"
   },
   {
    "duration": 9,
    "start_time": "2023-03-01T20:00:18.919Z"
   },
   {
    "duration": 11,
    "start_time": "2023-03-01T20:00:30.375Z"
   },
   {
    "duration": 10,
    "start_time": "2023-03-01T20:02:08.167Z"
   },
   {
    "duration": 8,
    "start_time": "2023-03-01T20:03:33.084Z"
   },
   {
    "duration": 9,
    "start_time": "2023-03-01T20:04:12.806Z"
   },
   {
    "duration": 20,
    "start_time": "2023-03-01T20:04:46.863Z"
   },
   {
    "duration": 6,
    "start_time": "2023-03-01T20:04:54.092Z"
   },
   {
    "duration": 10,
    "start_time": "2023-03-01T20:05:11.568Z"
   },
   {
    "duration": 6,
    "start_time": "2023-03-01T20:05:22.875Z"
   },
   {
    "duration": 6,
    "start_time": "2023-03-01T20:05:32.045Z"
   },
   {
    "duration": 1124,
    "start_time": "2023-03-01T20:05:40.641Z"
   },
   {
    "duration": 18,
    "start_time": "2023-03-01T20:05:41.767Z"
   },
   {
    "duration": 5,
    "start_time": "2023-03-01T20:05:41.786Z"
   },
   {
    "duration": 38,
    "start_time": "2023-03-01T20:05:41.793Z"
   },
   {
    "duration": 26,
    "start_time": "2023-03-01T20:05:41.834Z"
   },
   {
    "duration": 353,
    "start_time": "2023-03-01T20:05:41.862Z"
   },
   {
    "duration": 104,
    "start_time": "2023-03-01T20:05:42.217Z"
   },
   {
    "duration": 0,
    "start_time": "2023-03-01T20:05:42.323Z"
   },
   {
    "duration": 1138,
    "start_time": "2023-03-01T20:06:14.387Z"
   },
   {
    "duration": 18,
    "start_time": "2023-03-01T20:06:15.527Z"
   },
   {
    "duration": 28,
    "start_time": "2023-03-01T20:06:15.546Z"
   },
   {
    "duration": 52,
    "start_time": "2023-03-01T20:06:15.576Z"
   },
   {
    "duration": 11,
    "start_time": "2023-03-01T20:06:15.630Z"
   },
   {
    "duration": 434,
    "start_time": "2023-03-01T20:06:15.642Z"
   },
   {
    "duration": 198,
    "start_time": "2023-03-01T20:06:16.079Z"
   },
   {
    "duration": 45,
    "start_time": "2023-03-01T20:07:10.251Z"
   },
   {
    "duration": 4,
    "start_time": "2023-03-01T20:07:34.343Z"
   },
   {
    "duration": 48,
    "start_time": "2023-03-01T20:07:47.237Z"
   },
   {
    "duration": 1153,
    "start_time": "2023-03-01T20:08:52.662Z"
   },
   {
    "duration": 18,
    "start_time": "2023-03-01T20:08:53.818Z"
   },
   {
    "duration": 10,
    "start_time": "2023-03-01T20:08:53.838Z"
   },
   {
    "duration": 59,
    "start_time": "2023-03-01T20:08:53.849Z"
   },
   {
    "duration": 11,
    "start_time": "2023-03-01T20:08:53.910Z"
   },
   {
    "duration": 364,
    "start_time": "2023-03-01T20:08:53.922Z"
   },
   {
    "duration": 169,
    "start_time": "2023-03-01T20:08:54.287Z"
   },
   {
    "duration": 1109,
    "start_time": "2023-03-01T20:13:49.175Z"
   },
   {
    "duration": 17,
    "start_time": "2023-03-01T20:13:50.286Z"
   },
   {
    "duration": 12,
    "start_time": "2023-03-01T20:13:50.305Z"
   },
   {
    "duration": 49,
    "start_time": "2023-03-01T20:13:50.319Z"
   },
   {
    "duration": 10,
    "start_time": "2023-03-01T20:13:50.370Z"
   },
   {
    "duration": 355,
    "start_time": "2023-03-01T20:13:50.381Z"
   },
   {
    "duration": 121,
    "start_time": "2023-03-01T20:13:50.738Z"
   },
   {
    "duration": 0,
    "start_time": "2023-03-01T20:13:50.869Z"
   },
   {
    "duration": 19,
    "start_time": "2023-03-01T20:14:11.415Z"
   },
   {
    "duration": 3,
    "start_time": "2023-03-01T20:24:03.424Z"
   },
   {
    "duration": 19,
    "start_time": "2023-03-01T20:24:09.900Z"
   },
   {
    "duration": 44,
    "start_time": "2023-03-01T20:32:47.568Z"
   },
   {
    "duration": 43,
    "start_time": "2023-03-01T20:33:03.532Z"
   },
   {
    "duration": 47,
    "start_time": "2023-03-01T20:34:37.665Z"
   },
   {
    "duration": 43,
    "start_time": "2023-03-01T20:34:51.925Z"
   },
   {
    "duration": 47,
    "start_time": "2023-03-01T20:34:59.427Z"
   },
   {
    "duration": 9,
    "start_time": "2023-03-01T20:37:18.431Z"
   },
   {
    "duration": 10,
    "start_time": "2023-03-01T20:37:29.466Z"
   },
   {
    "duration": 12,
    "start_time": "2023-03-01T20:37:39.433Z"
   },
   {
    "duration": 1069,
    "start_time": "2023-03-01T20:37:48.696Z"
   },
   {
    "duration": 17,
    "start_time": "2023-03-01T20:37:49.767Z"
   },
   {
    "duration": 12,
    "start_time": "2023-03-01T20:37:49.785Z"
   },
   {
    "duration": 63,
    "start_time": "2023-03-01T20:37:49.798Z"
   },
   {
    "duration": 11,
    "start_time": "2023-03-01T20:37:49.862Z"
   },
   {
    "duration": 12,
    "start_time": "2023-03-01T20:37:49.875Z"
   },
   {
    "duration": 351,
    "start_time": "2023-03-01T20:37:49.888Z"
   },
   {
    "duration": 109,
    "start_time": "2023-03-01T20:37:50.240Z"
   },
   {
    "duration": 0,
    "start_time": "2023-03-01T20:37:50.350Z"
   },
   {
    "duration": 4,
    "start_time": "2023-03-01T20:38:06.525Z"
   },
   {
    "duration": 47,
    "start_time": "2023-03-01T20:38:09.187Z"
   },
   {
    "duration": 62,
    "start_time": "2023-03-01T20:39:12.608Z"
   },
   {
    "duration": 7,
    "start_time": "2023-03-01T20:39:37.350Z"
   },
   {
    "duration": 5,
    "start_time": "2023-03-01T20:39:46.360Z"
   },
   {
    "duration": 49,
    "start_time": "2023-03-01T20:39:51.898Z"
   },
   {
    "duration": 48,
    "start_time": "2023-03-01T20:39:57.013Z"
   },
   {
    "duration": 1116,
    "start_time": "2023-03-01T20:40:05.373Z"
   },
   {
    "duration": 17,
    "start_time": "2023-03-01T20:40:06.491Z"
   },
   {
    "duration": 16,
    "start_time": "2023-03-01T20:40:06.510Z"
   },
   {
    "duration": 37,
    "start_time": "2023-03-01T20:40:06.529Z"
   },
   {
    "duration": 12,
    "start_time": "2023-03-01T20:40:06.568Z"
   },
   {
    "duration": 14,
    "start_time": "2023-03-01T20:40:06.582Z"
   },
   {
    "duration": 388,
    "start_time": "2023-03-01T20:40:06.598Z"
   },
   {
    "duration": 114,
    "start_time": "2023-03-01T20:40:06.988Z"
   },
   {
    "duration": 0,
    "start_time": "2023-03-01T20:40:07.104Z"
   },
   {
    "duration": 39,
    "start_time": "2023-03-01T20:40:33.062Z"
   },
   {
    "duration": 4,
    "start_time": "2023-03-01T20:41:12.594Z"
   },
   {
    "duration": 11,
    "start_time": "2023-03-01T20:41:46.462Z"
   },
   {
    "duration": 25,
    "start_time": "2023-03-01T20:42:04.094Z"
   },
   {
    "duration": 398,
    "start_time": "2023-03-01T20:42:08.309Z"
   },
   {
    "duration": 417,
    "start_time": "2023-03-01T20:42:25.012Z"
   },
   {
    "duration": 1136,
    "start_time": "2023-03-01T20:42:36.241Z"
   },
   {
    "duration": 18,
    "start_time": "2023-03-01T20:42:37.380Z"
   },
   {
    "duration": 4,
    "start_time": "2023-03-01T20:42:37.399Z"
   },
   {
    "duration": 65,
    "start_time": "2023-03-01T20:42:37.405Z"
   },
   {
    "duration": 4,
    "start_time": "2023-03-01T20:42:37.471Z"
   },
   {
    "duration": 13,
    "start_time": "2023-03-01T20:42:37.477Z"
   },
   {
    "duration": 383,
    "start_time": "2023-03-01T20:42:37.491Z"
   },
   {
    "duration": 416,
    "start_time": "2023-03-01T20:42:37.875Z"
   },
   {
    "duration": 16897,
    "start_time": "2023-03-01T20:43:23.672Z"
   },
   {
    "duration": 7236,
    "start_time": "2023-03-01T20:43:55.819Z"
   },
   {
    "duration": 4745,
    "start_time": "2023-03-01T20:44:45.014Z"
   },
   {
    "duration": 4863,
    "start_time": "2023-03-01T20:44:59.514Z"
   },
   {
    "duration": 1672,
    "start_time": "2023-03-02T19:07:09.750Z"
   },
   {
    "duration": 33,
    "start_time": "2023-03-02T19:07:11.428Z"
   },
   {
    "duration": 6,
    "start_time": "2023-03-02T19:07:11.463Z"
   },
   {
    "duration": 73,
    "start_time": "2023-03-02T19:07:11.472Z"
   },
   {
    "duration": 11,
    "start_time": "2023-03-02T19:07:11.556Z"
   },
   {
    "duration": 19,
    "start_time": "2023-03-02T19:07:11.569Z"
   },
   {
    "duration": 670,
    "start_time": "2023-03-02T19:07:11.590Z"
   },
   {
    "duration": 500,
    "start_time": "2023-03-02T19:07:12.266Z"
   },
   {
    "duration": 19347,
    "start_time": "2023-03-02T19:07:12.769Z"
   },
   {
    "duration": 6087,
    "start_time": "2023-03-02T19:07:32.118Z"
   },
   {
    "duration": 89,
    "start_time": "2023-03-02T19:27:15.501Z"
   },
   {
    "duration": 92,
    "start_time": "2023-03-02T19:28:06.081Z"
   },
   {
    "duration": 5,
    "start_time": "2023-03-02T19:28:32.056Z"
   },
   {
    "duration": 144,
    "start_time": "2023-03-02T19:35:31.844Z"
   },
   {
    "duration": 0,
    "start_time": "2023-03-02T19:47:22.838Z"
   },
   {
    "duration": 0,
    "start_time": "2023-03-02T19:47:22.839Z"
   },
   {
    "duration": 0,
    "start_time": "2023-03-02T19:47:22.840Z"
   },
   {
    "duration": 0,
    "start_time": "2023-03-02T19:47:22.840Z"
   },
   {
    "duration": 0,
    "start_time": "2023-03-02T19:47:22.841Z"
   },
   {
    "duration": 0,
    "start_time": "2023-03-02T19:47:22.842Z"
   },
   {
    "duration": 0,
    "start_time": "2023-03-02T19:47:22.844Z"
   },
   {
    "duration": 0,
    "start_time": "2023-03-02T19:47:22.861Z"
   },
   {
    "duration": 0,
    "start_time": "2023-03-02T19:47:22.862Z"
   },
   {
    "duration": 0,
    "start_time": "2023-03-02T19:47:22.864Z"
   },
   {
    "duration": 0,
    "start_time": "2023-03-02T19:47:22.865Z"
   },
   {
    "duration": 0,
    "start_time": "2023-03-02T19:47:22.867Z"
   },
   {
    "duration": 1484,
    "start_time": "2023-03-02T19:47:44.602Z"
   },
   {
    "duration": 35,
    "start_time": "2023-03-02T19:47:46.089Z"
   },
   {
    "duration": 5,
    "start_time": "2023-03-02T19:47:46.126Z"
   },
   {
    "duration": 62,
    "start_time": "2023-03-02T19:47:46.134Z"
   },
   {
    "duration": 21,
    "start_time": "2023-03-02T19:47:46.199Z"
   },
   {
    "duration": 40,
    "start_time": "2023-03-02T19:47:46.223Z"
   },
   {
    "duration": 525,
    "start_time": "2023-03-02T19:47:46.271Z"
   },
   {
    "duration": 481,
    "start_time": "2023-03-02T19:47:46.798Z"
   },
   {
    "duration": 23373,
    "start_time": "2023-03-02T19:47:47.281Z"
   },
   {
    "duration": 6963,
    "start_time": "2023-03-02T19:48:10.665Z"
   },
   {
    "duration": 22,
    "start_time": "2023-03-02T19:48:17.635Z"
   },
   {
    "duration": 296,
    "start_time": "2023-03-02T19:48:17.663Z"
   },
   {
    "duration": 1503,
    "start_time": "2023-03-02T19:50:34.865Z"
   },
   {
    "duration": 31,
    "start_time": "2023-03-02T19:50:36.370Z"
   },
   {
    "duration": 6,
    "start_time": "2023-03-02T19:50:36.403Z"
   },
   {
    "duration": 83,
    "start_time": "2023-03-02T19:50:36.411Z"
   },
   {
    "duration": 6,
    "start_time": "2023-03-02T19:50:36.495Z"
   },
   {
    "duration": 29,
    "start_time": "2023-03-02T19:50:36.502Z"
   },
   {
    "duration": 463,
    "start_time": "2023-03-02T19:50:36.533Z"
   },
   {
    "duration": 543,
    "start_time": "2023-03-02T19:50:36.998Z"
   },
   {
    "duration": 22168,
    "start_time": "2023-03-02T19:50:37.548Z"
   },
   {
    "duration": 6260,
    "start_time": "2023-03-02T19:50:59.726Z"
   },
   {
    "duration": 4,
    "start_time": "2023-03-02T19:51:05.988Z"
   },
   {
    "duration": 190,
    "start_time": "2023-03-02T19:51:05.994Z"
   },
   {
    "duration": 253,
    "start_time": "2023-03-02T20:02:45.202Z"
   },
   {
    "duration": 64,
    "start_time": "2023-03-02T20:11:00.960Z"
   },
   {
    "duration": 92,
    "start_time": "2023-03-02T20:12:02.073Z"
   },
   {
    "duration": 90,
    "start_time": "2023-03-02T20:12:10.397Z"
   },
   {
    "duration": 63,
    "start_time": "2023-03-02T20:12:27.631Z"
   },
   {
    "duration": 5,
    "start_time": "2023-03-02T20:12:39.374Z"
   },
   {
    "duration": 20,
    "start_time": "2023-03-02T20:13:03.064Z"
   },
   {
    "duration": 65,
    "start_time": "2023-03-02T20:14:41.155Z"
   },
   {
    "duration": 48,
    "start_time": "2023-03-03T14:43:44.094Z"
   },
   {
    "duration": 1183,
    "start_time": "2023-03-03T14:43:56.728Z"
   },
   {
    "duration": 19,
    "start_time": "2023-03-03T14:43:57.912Z"
   },
   {
    "duration": 21,
    "start_time": "2023-03-03T14:43:57.932Z"
   },
   {
    "duration": 53,
    "start_time": "2023-03-03T14:43:57.955Z"
   },
   {
    "duration": 4,
    "start_time": "2023-03-03T14:43:58.009Z"
   },
   {
    "duration": 32,
    "start_time": "2023-03-03T14:43:58.014Z"
   },
   {
    "duration": 542,
    "start_time": "2023-03-03T14:43:58.048Z"
   },
   {
    "duration": 406,
    "start_time": "2023-03-03T14:43:58.592Z"
   },
   {
    "duration": 8653,
    "start_time": "2023-03-03T14:43:59.000Z"
   },
   {
    "duration": 5281,
    "start_time": "2023-03-03T14:44:07.656Z"
   },
   {
    "duration": 4,
    "start_time": "2023-03-03T14:44:12.938Z"
   },
   {
    "duration": 129,
    "start_time": "2023-03-03T14:44:12.948Z"
   },
   {
    "duration": 4,
    "start_time": "2023-03-03T14:44:13.078Z"
   },
   {
    "duration": 65,
    "start_time": "2023-03-03T14:44:13.084Z"
   },
   {
    "duration": 15,
    "start_time": "2023-03-03T14:44:13.151Z"
   },
   {
    "duration": 1136,
    "start_time": "2023-03-03T14:48:18.684Z"
   },
   {
    "duration": 24,
    "start_time": "2023-03-03T14:48:19.822Z"
   },
   {
    "duration": 5,
    "start_time": "2023-03-03T14:48:19.848Z"
   },
   {
    "duration": 64,
    "start_time": "2023-03-03T14:48:19.855Z"
   },
   {
    "duration": 4,
    "start_time": "2023-03-03T14:48:19.922Z"
   },
   {
    "duration": 30,
    "start_time": "2023-03-03T14:48:19.928Z"
   },
   {
    "duration": 428,
    "start_time": "2023-03-03T14:48:19.960Z"
   },
   {
    "duration": 431,
    "start_time": "2023-03-03T14:48:20.390Z"
   },
   {
    "duration": 6526,
    "start_time": "2023-03-03T14:48:20.824Z"
   },
   {
    "duration": 5157,
    "start_time": "2023-03-03T14:48:27.352Z"
   },
   {
    "duration": 4,
    "start_time": "2023-03-03T14:48:32.511Z"
   },
   {
    "duration": 151,
    "start_time": "2023-03-03T14:48:32.517Z"
   },
   {
    "duration": 4,
    "start_time": "2023-03-03T14:48:32.670Z"
   },
   {
    "duration": 90,
    "start_time": "2023-03-03T14:48:32.676Z"
   },
   {
    "duration": 14,
    "start_time": "2023-03-03T14:48:32.768Z"
   },
   {
    "duration": 12,
    "start_time": "2023-03-03T14:49:25.605Z"
   },
   {
    "duration": 14,
    "start_time": "2023-03-03T14:49:39.913Z"
   },
   {
    "duration": 13,
    "start_time": "2023-03-03T14:49:49.723Z"
   },
   {
    "duration": 145,
    "start_time": "2023-03-03T14:50:25.633Z"
   },
   {
    "duration": 52,
    "start_time": "2023-03-03T14:50:31.233Z"
   },
   {
    "duration": 61,
    "start_time": "2023-03-03T14:51:43.193Z"
   },
   {
    "duration": 54,
    "start_time": "2023-03-03T14:52:03.764Z"
   },
   {
    "duration": 1129,
    "start_time": "2023-03-03T14:52:21.669Z"
   },
   {
    "duration": 20,
    "start_time": "2023-03-03T14:52:22.801Z"
   },
   {
    "duration": 5,
    "start_time": "2023-03-03T14:52:22.823Z"
   },
   {
    "duration": 46,
    "start_time": "2023-03-03T14:52:22.830Z"
   },
   {
    "duration": 3,
    "start_time": "2023-03-03T14:52:22.879Z"
   },
   {
    "duration": 17,
    "start_time": "2023-03-03T14:52:22.884Z"
   },
   {
    "duration": 401,
    "start_time": "2023-03-03T14:52:22.903Z"
   },
   {
    "duration": 455,
    "start_time": "2023-03-03T14:52:23.306Z"
   },
   {
    "duration": 6486,
    "start_time": "2023-03-03T14:52:23.763Z"
   },
   {
    "duration": 5144,
    "start_time": "2023-03-03T14:52:30.251Z"
   },
   {
    "duration": 4,
    "start_time": "2023-03-03T14:52:35.397Z"
   },
   {
    "duration": 176,
    "start_time": "2023-03-03T14:52:35.402Z"
   },
   {
    "duration": 4,
    "start_time": "2023-03-03T14:52:35.580Z"
   },
   {
    "duration": 71,
    "start_time": "2023-03-03T14:52:35.587Z"
   },
   {
    "duration": 124,
    "start_time": "2023-03-03T14:52:35.660Z"
   },
   {
    "duration": 68,
    "start_time": "2023-03-03T14:52:35.786Z"
   },
   {
    "duration": 45,
    "start_time": "2023-03-03T14:57:17.109Z"
   },
   {
    "duration": 1152,
    "start_time": "2023-03-03T14:57:22.071Z"
   },
   {
    "duration": 20,
    "start_time": "2023-03-03T14:57:23.225Z"
   },
   {
    "duration": 15,
    "start_time": "2023-03-03T14:57:23.247Z"
   },
   {
    "duration": 66,
    "start_time": "2023-03-03T14:57:23.265Z"
   },
   {
    "duration": 4,
    "start_time": "2023-03-03T14:57:23.333Z"
   },
   {
    "duration": 30,
    "start_time": "2023-03-03T14:57:23.339Z"
   },
   {
    "duration": 392,
    "start_time": "2023-03-03T14:57:23.371Z"
   },
   {
    "duration": 426,
    "start_time": "2023-03-03T14:57:23.764Z"
   },
   {
    "duration": 6557,
    "start_time": "2023-03-03T14:57:24.192Z"
   },
   {
    "duration": 5108,
    "start_time": "2023-03-03T14:57:30.751Z"
   },
   {
    "duration": 4,
    "start_time": "2023-03-03T14:57:35.860Z"
   },
   {
    "duration": 174,
    "start_time": "2023-03-03T14:57:35.866Z"
   },
   {
    "duration": 7,
    "start_time": "2023-03-03T14:57:36.042Z"
   },
   {
    "duration": 77,
    "start_time": "2023-03-03T14:57:36.050Z"
   },
   {
    "duration": 147,
    "start_time": "2023-03-03T14:57:36.129Z"
   },
   {
    "duration": 12,
    "start_time": "2023-03-03T14:57:36.278Z"
   },
   {
    "duration": 102,
    "start_time": "2023-03-03T14:59:22.727Z"
   },
   {
    "duration": 48,
    "start_time": "2023-03-03T14:59:41.177Z"
   },
   {
    "duration": 1138,
    "start_time": "2023-03-03T14:59:48.810Z"
   },
   {
    "duration": 23,
    "start_time": "2023-03-03T14:59:49.951Z"
   },
   {
    "duration": 5,
    "start_time": "2023-03-03T14:59:49.975Z"
   },
   {
    "duration": 45,
    "start_time": "2023-03-03T14:59:49.982Z"
   },
   {
    "duration": 20,
    "start_time": "2023-03-03T14:59:50.029Z"
   },
   {
    "duration": 26,
    "start_time": "2023-03-03T14:59:50.052Z"
   },
   {
    "duration": 399,
    "start_time": "2023-03-03T14:59:50.080Z"
   },
   {
    "duration": 418,
    "start_time": "2023-03-03T14:59:50.481Z"
   },
   {
    "duration": 6550,
    "start_time": "2023-03-03T14:59:50.901Z"
   },
   {
    "duration": 5056,
    "start_time": "2023-03-03T14:59:57.454Z"
   },
   {
    "duration": 4,
    "start_time": "2023-03-03T15:00:02.512Z"
   },
   {
    "duration": 160,
    "start_time": "2023-03-03T15:00:02.517Z"
   },
   {
    "duration": 4,
    "start_time": "2023-03-03T15:00:02.679Z"
   },
   {
    "duration": 69,
    "start_time": "2023-03-03T15:00:02.685Z"
   },
   {
    "duration": 134,
    "start_time": "2023-03-03T15:00:02.756Z"
   },
   {
    "duration": 13,
    "start_time": "2023-03-03T15:00:02.892Z"
   },
   {
    "duration": 133,
    "start_time": "2023-03-03T15:00:02.907Z"
   },
   {
    "duration": 1471,
    "start_time": "2023-03-03T15:00:30.184Z"
   },
   {
    "duration": 17,
    "start_time": "2023-03-03T15:00:31.657Z"
   },
   {
    "duration": 20,
    "start_time": "2023-03-03T15:00:31.676Z"
   },
   {
    "duration": 49,
    "start_time": "2023-03-03T15:00:31.698Z"
   },
   {
    "duration": 4,
    "start_time": "2023-03-03T15:00:31.749Z"
   },
   {
    "duration": 31,
    "start_time": "2023-03-03T15:00:31.755Z"
   },
   {
    "duration": 146,
    "start_time": "2023-03-03T15:00:31.787Z"
   },
   {
    "duration": 426,
    "start_time": "2023-03-03T15:00:31.935Z"
   },
   {
    "duration": 6989,
    "start_time": "2023-03-03T15:00:32.363Z"
   },
   {
    "duration": 5299,
    "start_time": "2023-03-03T15:00:39.355Z"
   },
   {
    "duration": 4,
    "start_time": "2023-03-03T15:00:44.656Z"
   },
   {
    "duration": 287,
    "start_time": "2023-03-03T15:00:44.661Z"
   },
   {
    "duration": 4,
    "start_time": "2023-03-03T15:00:44.950Z"
   },
   {
    "duration": 116,
    "start_time": "2023-03-03T15:00:44.957Z"
   },
   {
    "duration": 283,
    "start_time": "2023-03-03T15:00:45.075Z"
   },
   {
    "duration": 12,
    "start_time": "2023-03-03T15:00:45.360Z"
   },
   {
    "duration": 214,
    "start_time": "2023-03-03T15:00:45.374Z"
   },
   {
    "duration": 105,
    "start_time": "2023-03-03T15:27:29.089Z"
   },
   {
    "duration": 49,
    "start_time": "2023-03-03T15:27:48.283Z"
   },
   {
    "duration": 8,
    "start_time": "2023-03-03T15:27:54.788Z"
   },
   {
    "duration": 45,
    "start_time": "2023-03-03T15:28:03.498Z"
   },
   {
    "duration": 14,
    "start_time": "2023-03-03T15:34:56.018Z"
   },
   {
    "duration": 40,
    "start_time": "2023-03-03T15:35:11.667Z"
   },
   {
    "duration": 42,
    "start_time": "2023-03-03T15:35:18.727Z"
   },
   {
    "duration": 33,
    "start_time": "2023-03-03T15:35:25.428Z"
   },
   {
    "duration": 40,
    "start_time": "2023-03-03T15:35:40.278Z"
   },
   {
    "duration": 85,
    "start_time": "2023-03-03T15:36:09.718Z"
   },
   {
    "duration": 53,
    "start_time": "2023-03-03T15:36:13.489Z"
   },
   {
    "duration": 39,
    "start_time": "2023-03-03T15:36:43.030Z"
   },
   {
    "duration": 39,
    "start_time": "2023-03-03T15:39:08.397Z"
   },
   {
    "duration": 37,
    "start_time": "2023-03-03T15:39:37.439Z"
   },
   {
    "duration": 35,
    "start_time": "2023-03-03T15:39:45.714Z"
   },
   {
    "duration": 48,
    "start_time": "2023-03-03T15:40:11.075Z"
   },
   {
    "duration": 35,
    "start_time": "2023-03-03T15:40:22.308Z"
   },
   {
    "duration": 1412,
    "start_time": "2023-03-03T15:40:43.972Z"
   },
   {
    "duration": 17,
    "start_time": "2023-03-03T15:40:45.386Z"
   },
   {
    "duration": 4,
    "start_time": "2023-03-03T15:40:45.405Z"
   },
   {
    "duration": 49,
    "start_time": "2023-03-03T15:40:45.411Z"
   },
   {
    "duration": 4,
    "start_time": "2023-03-03T15:40:45.462Z"
   },
   {
    "duration": 16,
    "start_time": "2023-03-03T15:40:45.467Z"
   },
   {
    "duration": 154,
    "start_time": "2023-03-03T15:40:45.485Z"
   },
   {
    "duration": 468,
    "start_time": "2023-03-03T15:40:45.647Z"
   },
   {
    "duration": 11641,
    "start_time": "2023-03-03T15:40:46.117Z"
   },
   {
    "duration": 5050,
    "start_time": "2023-03-03T15:40:57.850Z"
   },
   {
    "duration": 4,
    "start_time": "2023-03-03T15:41:02.902Z"
   },
   {
    "duration": 141,
    "start_time": "2023-03-03T15:41:02.907Z"
   },
   {
    "duration": 5,
    "start_time": "2023-03-03T15:41:03.049Z"
   },
   {
    "duration": 69,
    "start_time": "2023-03-03T15:41:03.055Z"
   },
   {
    "duration": 133,
    "start_time": "2023-03-03T15:41:03.127Z"
   },
   {
    "duration": 126,
    "start_time": "2023-03-03T15:41:03.262Z"
   },
   {
    "duration": 0,
    "start_time": "2023-03-03T15:41:03.389Z"
   },
   {
    "duration": 0,
    "start_time": "2023-03-03T15:41:03.391Z"
   },
   {
    "duration": 13,
    "start_time": "2023-03-03T15:41:37.873Z"
   },
   {
    "duration": 34,
    "start_time": "2023-03-03T15:41:41.669Z"
   },
   {
    "duration": 1465,
    "start_time": "2023-03-03T15:41:52.077Z"
   },
   {
    "duration": 16,
    "start_time": "2023-03-03T15:41:53.545Z"
   },
   {
    "duration": 4,
    "start_time": "2023-03-03T15:41:53.563Z"
   },
   {
    "duration": 43,
    "start_time": "2023-03-03T15:41:53.569Z"
   },
   {
    "duration": 5,
    "start_time": "2023-03-03T15:41:53.616Z"
   },
   {
    "duration": 39,
    "start_time": "2023-03-03T15:41:53.623Z"
   },
   {
    "duration": 149,
    "start_time": "2023-03-03T15:41:53.664Z"
   },
   {
    "duration": 443,
    "start_time": "2023-03-03T15:41:53.815Z"
   },
   {
    "duration": 9589,
    "start_time": "2023-03-03T15:41:54.262Z"
   },
   {
    "duration": 5077,
    "start_time": "2023-03-03T15:42:03.853Z"
   },
   {
    "duration": 4,
    "start_time": "2023-03-03T15:42:08.932Z"
   },
   {
    "duration": 134,
    "start_time": "2023-03-03T15:42:08.938Z"
   },
   {
    "duration": 5,
    "start_time": "2023-03-03T15:42:09.074Z"
   },
   {
    "duration": 69,
    "start_time": "2023-03-03T15:42:09.082Z"
   },
   {
    "duration": 144,
    "start_time": "2023-03-03T15:42:09.152Z"
   },
   {
    "duration": 15,
    "start_time": "2023-03-03T15:42:09.298Z"
   },
   {
    "duration": 52,
    "start_time": "2023-03-03T15:42:09.315Z"
   },
   {
    "duration": 114,
    "start_time": "2023-03-03T15:42:09.369Z"
   },
   {
    "duration": 127,
    "start_time": "2023-03-03T16:20:56.871Z"
   },
   {
    "duration": 152,
    "start_time": "2023-03-03T16:22:15.332Z"
   },
   {
    "duration": 1461,
    "start_time": "2023-03-03T16:22:23.179Z"
   },
   {
    "duration": 20,
    "start_time": "2023-03-03T16:22:24.642Z"
   },
   {
    "duration": 8,
    "start_time": "2023-03-03T16:22:24.666Z"
   },
   {
    "duration": 48,
    "start_time": "2023-03-03T16:22:24.676Z"
   },
   {
    "duration": 4,
    "start_time": "2023-03-03T16:22:24.726Z"
   },
   {
    "duration": 34,
    "start_time": "2023-03-03T16:22:24.732Z"
   },
   {
    "duration": 133,
    "start_time": "2023-03-03T16:22:24.768Z"
   },
   {
    "duration": 434,
    "start_time": "2023-03-03T16:22:24.902Z"
   },
   {
    "duration": 19322,
    "start_time": "2023-03-03T16:22:25.338Z"
   },
   {
    "duration": 5176,
    "start_time": "2023-03-03T16:22:44.664Z"
   },
   {
    "duration": 17,
    "start_time": "2023-03-03T16:22:49.842Z"
   },
   {
    "duration": 136,
    "start_time": "2023-03-03T16:22:49.861Z"
   },
   {
    "duration": 4,
    "start_time": "2023-03-03T16:22:49.999Z"
   },
   {
    "duration": 77,
    "start_time": "2023-03-03T16:22:50.004Z"
   },
   {
    "duration": 128,
    "start_time": "2023-03-03T16:22:50.083Z"
   },
   {
    "duration": 12,
    "start_time": "2023-03-03T16:22:50.212Z"
   },
   {
    "duration": 50,
    "start_time": "2023-03-03T16:22:50.226Z"
   },
   {
    "duration": 117,
    "start_time": "2023-03-03T16:22:50.278Z"
   },
   {
    "duration": 122,
    "start_time": "2023-03-03T16:36:34.409Z"
   },
   {
    "duration": 47,
    "start_time": "2023-03-03T16:37:31.702Z"
   },
   {
    "duration": 13,
    "start_time": "2023-03-03T16:37:31.752Z"
   },
   {
    "duration": 44,
    "start_time": "2023-03-03T16:37:31.766Z"
   },
   {
    "duration": 17,
    "start_time": "2023-03-03T16:37:32.387Z"
   },
   {
    "duration": 10,
    "start_time": "2023-03-03T16:37:37.687Z"
   },
   {
    "duration": 0,
    "start_time": "2023-03-03T16:37:37.699Z"
   },
   {
    "duration": 0,
    "start_time": "2023-03-03T16:37:37.701Z"
   },
   {
    "duration": 0,
    "start_time": "2023-03-03T16:37:37.702Z"
   },
   {
    "duration": 88,
    "start_time": "2023-03-03T16:37:37.722Z"
   },
   {
    "duration": 92,
    "start_time": "2023-03-03T16:37:37.812Z"
   },
   {
    "duration": 3,
    "start_time": "2023-03-03T16:37:37.906Z"
   },
   {
    "duration": 17,
    "start_time": "2023-03-03T16:37:37.912Z"
   },
   {
    "duration": 0,
    "start_time": "2023-03-03T16:37:37.930Z"
   },
   {
    "duration": 0,
    "start_time": "2023-03-03T16:37:37.932Z"
   },
   {
    "duration": 0,
    "start_time": "2023-03-03T16:37:37.933Z"
   },
   {
    "duration": 10,
    "start_time": "2023-03-03T16:37:38.091Z"
   },
   {
    "duration": 0,
    "start_time": "2023-03-03T16:37:38.102Z"
   },
   {
    "duration": 15,
    "start_time": "2023-03-03T16:37:38.104Z"
   },
   {
    "duration": 1517,
    "start_time": "2023-03-03T16:37:51.522Z"
   },
   {
    "duration": 24,
    "start_time": "2023-03-03T16:37:53.041Z"
   },
   {
    "duration": 150,
    "start_time": "2023-03-03T16:37:53.067Z"
   },
   {
    "duration": 0,
    "start_time": "2023-03-03T16:37:53.219Z"
   },
   {
    "duration": 0,
    "start_time": "2023-03-03T16:37:53.221Z"
   },
   {
    "duration": 0,
    "start_time": "2023-03-03T16:37:53.230Z"
   },
   {
    "duration": 0,
    "start_time": "2023-03-03T16:37:53.231Z"
   },
   {
    "duration": 0,
    "start_time": "2023-03-03T16:37:53.233Z"
   },
   {
    "duration": 0,
    "start_time": "2023-03-03T16:37:53.235Z"
   },
   {
    "duration": 0,
    "start_time": "2023-03-03T16:37:53.236Z"
   },
   {
    "duration": 11,
    "start_time": "2023-03-03T16:37:53.444Z"
   },
   {
    "duration": 45,
    "start_time": "2023-03-03T16:37:53.457Z"
   },
   {
    "duration": 5,
    "start_time": "2023-03-03T16:37:53.779Z"
   },
   {
    "duration": 12,
    "start_time": "2023-03-03T16:37:54.412Z"
   },
   {
    "duration": 0,
    "start_time": "2023-03-03T16:37:54.426Z"
   },
   {
    "duration": 12,
    "start_time": "2023-03-03T16:37:54.717Z"
   },
   {
    "duration": 0,
    "start_time": "2023-03-03T16:37:54.731Z"
   },
   {
    "duration": 19,
    "start_time": "2023-03-03T16:37:55.047Z"
   },
   {
    "duration": 7,
    "start_time": "2023-03-03T16:38:27.497Z"
   },
   {
    "duration": 7,
    "start_time": "2023-03-03T16:38:40.483Z"
   },
   {
    "duration": 15,
    "start_time": "2023-03-03T16:38:56.397Z"
   },
   {
    "duration": 1551,
    "start_time": "2023-03-03T16:39:04.993Z"
   },
   {
    "duration": 22,
    "start_time": "2023-03-03T16:39:06.546Z"
   },
   {
    "duration": 16,
    "start_time": "2023-03-03T16:39:06.570Z"
   },
   {
    "duration": 40,
    "start_time": "2023-03-03T16:39:06.588Z"
   },
   {
    "duration": 19,
    "start_time": "2023-03-03T16:39:06.630Z"
   },
   {
    "duration": 29,
    "start_time": "2023-03-03T16:39:06.653Z"
   },
   {
    "duration": 139,
    "start_time": "2023-03-03T16:39:06.683Z"
   },
   {
    "duration": 401,
    "start_time": "2023-03-03T16:39:06.823Z"
   },
   {
    "duration": 16348,
    "start_time": "2023-03-03T16:39:07.226Z"
   },
   {
    "duration": 5035,
    "start_time": "2023-03-03T16:39:23.576Z"
   },
   {
    "duration": 3,
    "start_time": "2023-03-03T16:39:28.613Z"
   },
   {
    "duration": 141,
    "start_time": "2023-03-03T16:39:28.618Z"
   },
   {
    "duration": 5,
    "start_time": "2023-03-03T16:39:28.763Z"
   },
   {
    "duration": 62,
    "start_time": "2023-03-03T16:39:28.769Z"
   },
   {
    "duration": 129,
    "start_time": "2023-03-03T16:39:28.833Z"
   },
   {
    "duration": 12,
    "start_time": "2023-03-03T16:39:28.964Z"
   },
   {
    "duration": 39,
    "start_time": "2023-03-03T16:39:28.978Z"
   },
   {
    "duration": 143,
    "start_time": "2023-03-03T16:39:29.019Z"
   },
   {
    "duration": 38,
    "start_time": "2023-03-03T16:40:20.332Z"
   },
   {
    "duration": 45,
    "start_time": "2023-03-03T16:40:56.322Z"
   },
   {
    "duration": 40,
    "start_time": "2023-03-03T16:42:46.299Z"
   },
   {
    "duration": 33,
    "start_time": "2023-03-03T16:43:03.859Z"
   },
   {
    "duration": 36,
    "start_time": "2023-03-03T16:43:26.694Z"
   },
   {
    "duration": 107,
    "start_time": "2023-03-03T16:47:47.786Z"
   },
   {
    "duration": 11,
    "start_time": "2023-03-03T16:50:32.564Z"
   },
   {
    "duration": 1533,
    "start_time": "2023-03-03T16:52:02.783Z"
   },
   {
    "duration": 16,
    "start_time": "2023-03-03T16:52:04.319Z"
   },
   {
    "duration": 23,
    "start_time": "2023-03-03T16:52:04.337Z"
   },
   {
    "duration": 47,
    "start_time": "2023-03-03T16:52:04.362Z"
   },
   {
    "duration": 5,
    "start_time": "2023-03-03T16:52:04.410Z"
   },
   {
    "duration": 45,
    "start_time": "2023-03-03T16:52:04.417Z"
   },
   {
    "duration": 139,
    "start_time": "2023-03-03T16:52:04.464Z"
   },
   {
    "duration": 393,
    "start_time": "2023-03-03T16:52:04.605Z"
   },
   {
    "duration": 11560,
    "start_time": "2023-03-03T16:52:05.000Z"
   },
   {
    "duration": 5073,
    "start_time": "2023-03-03T16:52:16.567Z"
   },
   {
    "duration": 19,
    "start_time": "2023-03-03T16:52:21.642Z"
   },
   {
    "duration": 142,
    "start_time": "2023-03-03T16:52:21.663Z"
   },
   {
    "duration": 5,
    "start_time": "2023-03-03T16:52:21.806Z"
   },
   {
    "duration": 85,
    "start_time": "2023-03-03T16:52:21.813Z"
   },
   {
    "duration": 34706,
    "start_time": "2023-03-03T16:52:21.900Z"
   },
   {
    "duration": 0,
    "start_time": "2023-03-03T16:52:56.608Z"
   },
   {
    "duration": 0,
    "start_time": "2023-03-03T16:52:56.609Z"
   },
   {
    "duration": 0,
    "start_time": "2023-03-03T16:52:56.610Z"
   },
   {
    "duration": 1459,
    "start_time": "2023-03-03T16:53:26.715Z"
   },
   {
    "duration": 20,
    "start_time": "2023-03-03T16:53:28.176Z"
   },
   {
    "duration": 19,
    "start_time": "2023-03-03T16:53:28.198Z"
   },
   {
    "duration": 55,
    "start_time": "2023-03-03T16:53:28.219Z"
   },
   {
    "duration": 4,
    "start_time": "2023-03-03T16:53:28.276Z"
   },
   {
    "duration": 13,
    "start_time": "2023-03-03T16:53:28.281Z"
   },
   {
    "duration": 139,
    "start_time": "2023-03-03T16:53:28.295Z"
   },
   {
    "duration": 399,
    "start_time": "2023-03-03T16:53:28.436Z"
   },
   {
    "duration": 11817,
    "start_time": "2023-03-03T16:53:28.837Z"
   },
   {
    "duration": 4887,
    "start_time": "2023-03-03T16:53:40.658Z"
   },
   {
    "duration": 4,
    "start_time": "2023-03-03T16:53:45.549Z"
   },
   {
    "duration": 129,
    "start_time": "2023-03-03T16:53:45.554Z"
   },
   {
    "duration": 5,
    "start_time": "2023-03-03T16:53:45.685Z"
   },
   {
    "duration": 70,
    "start_time": "2023-03-03T16:53:45.692Z"
   },
   {
    "duration": 34148,
    "start_time": "2023-03-03T16:53:45.764Z"
   },
   {
    "duration": 0,
    "start_time": "2023-03-03T16:54:19.913Z"
   },
   {
    "duration": 0,
    "start_time": "2023-03-03T16:54:19.915Z"
   },
   {
    "duration": 0,
    "start_time": "2023-03-03T16:54:19.916Z"
   },
   {
    "duration": 34522,
    "start_time": "2023-03-03T16:56:56.990Z"
   },
   {
    "duration": 35799,
    "start_time": "2023-03-03T16:58:07.887Z"
   },
   {
    "duration": 18,
    "start_time": "2023-03-03T16:58:52.346Z"
   },
   {
    "duration": 50,
    "start_time": "2023-03-03T16:58:55.045Z"
   },
   {
    "duration": 132,
    "start_time": "2023-03-03T16:59:00.379Z"
   },
   {
    "duration": 5048,
    "start_time": "2023-03-03T17:02:53.391Z"
   },
   {
    "duration": 81,
    "start_time": "2023-03-03T17:36:41.337Z"
   },
   {
    "duration": 13,
    "start_time": "2023-03-03T17:36:41.420Z"
   },
   {
    "duration": 31,
    "start_time": "2023-03-03T17:36:41.435Z"
   },
   {
    "duration": 54,
    "start_time": "2023-03-03T17:36:41.469Z"
   },
   {
    "duration": 4,
    "start_time": "2023-03-03T17:36:41.525Z"
   },
   {
    "duration": 72,
    "start_time": "2023-03-03T17:36:41.530Z"
   },
   {
    "duration": 125,
    "start_time": "2023-03-03T17:36:41.604Z"
   },
   {
    "duration": 437,
    "start_time": "2023-03-03T17:36:41.731Z"
   },
   {
    "duration": 19430,
    "start_time": "2023-03-03T17:36:42.170Z"
   },
   {
    "duration": 5526,
    "start_time": "2023-03-03T17:37:01.663Z"
   },
   {
    "duration": 6,
    "start_time": "2023-03-03T17:37:07.190Z"
   },
   {
    "duration": 135,
    "start_time": "2023-03-03T17:37:07.197Z"
   },
   {
    "duration": 4,
    "start_time": "2023-03-03T17:37:07.334Z"
   },
   {
    "duration": 117,
    "start_time": "2023-03-03T17:37:07.339Z"
   },
   {
    "duration": 1506,
    "start_time": "2023-03-03T17:52:32.387Z"
   },
   {
    "duration": 16,
    "start_time": "2023-03-03T17:52:33.895Z"
   },
   {
    "duration": 15,
    "start_time": "2023-03-03T17:52:33.912Z"
   },
   {
    "duration": 56,
    "start_time": "2023-03-03T17:52:33.929Z"
   },
   {
    "duration": 5,
    "start_time": "2023-03-03T17:52:33.989Z"
   },
   {
    "duration": 17,
    "start_time": "2023-03-03T17:52:33.995Z"
   },
   {
    "duration": 139,
    "start_time": "2023-03-03T17:52:34.014Z"
   },
   {
    "duration": 432,
    "start_time": "2023-03-03T17:52:34.154Z"
   },
   {
    "duration": 18889,
    "start_time": "2023-03-03T17:52:34.590Z"
   },
   {
    "duration": 5433,
    "start_time": "2023-03-03T17:52:53.483Z"
   },
   {
    "duration": 4,
    "start_time": "2023-03-03T17:52:58.918Z"
   },
   {
    "duration": 132,
    "start_time": "2023-03-03T17:52:58.923Z"
   },
   {
    "duration": 6,
    "start_time": "2023-03-03T17:52:59.057Z"
   },
   {
    "duration": 73,
    "start_time": "2023-03-03T17:52:59.065Z"
   },
   {
    "duration": 35144,
    "start_time": "2023-03-03T17:52:59.140Z"
   },
   {
    "duration": 13,
    "start_time": "2023-03-03T17:53:34.286Z"
   },
   {
    "duration": 51,
    "start_time": "2023-03-03T17:53:34.300Z"
   },
   {
    "duration": 128,
    "start_time": "2023-03-03T17:53:34.353Z"
   },
   {
    "duration": 119,
    "start_time": "2023-03-03T17:56:04.601Z"
   },
   {
    "duration": 59,
    "start_time": "2023-03-03T17:56:40.422Z"
   },
   {
    "duration": 1491,
    "start_time": "2023-03-03T17:56:46.873Z"
   },
   {
    "duration": 18,
    "start_time": "2023-03-03T17:56:48.367Z"
   },
   {
    "duration": 13,
    "start_time": "2023-03-03T17:56:48.386Z"
   },
   {
    "duration": 50,
    "start_time": "2023-03-03T17:56:48.401Z"
   },
   {
    "duration": 7,
    "start_time": "2023-03-03T17:56:48.454Z"
   },
   {
    "duration": 26,
    "start_time": "2023-03-03T17:56:48.464Z"
   },
   {
    "duration": 125,
    "start_time": "2023-03-03T17:56:48.492Z"
   },
   {
    "duration": 395,
    "start_time": "2023-03-03T17:56:48.619Z"
   },
   {
    "duration": 12037,
    "start_time": "2023-03-03T17:56:49.016Z"
   },
   {
    "duration": 5396,
    "start_time": "2023-03-03T17:57:01.059Z"
   },
   {
    "duration": 5,
    "start_time": "2023-03-03T17:57:06.458Z"
   },
   {
    "duration": 145,
    "start_time": "2023-03-03T17:57:06.466Z"
   },
   {
    "duration": 5,
    "start_time": "2023-03-03T17:57:06.613Z"
   },
   {
    "duration": 65,
    "start_time": "2023-03-03T17:57:06.619Z"
   },
   {
    "duration": 35016,
    "start_time": "2023-03-03T17:57:06.686Z"
   },
   {
    "duration": 15,
    "start_time": "2023-03-03T17:57:41.704Z"
   },
   {
    "duration": 58,
    "start_time": "2023-03-03T17:57:41.721Z"
   },
   {
    "duration": 128,
    "start_time": "2023-03-03T17:57:41.780Z"
   },
   {
    "duration": 18,
    "start_time": "2023-03-03T17:59:26.026Z"
   },
   {
    "duration": 1478,
    "start_time": "2023-03-03T17:59:36.487Z"
   },
   {
    "duration": 19,
    "start_time": "2023-03-03T17:59:37.973Z"
   },
   {
    "duration": 13,
    "start_time": "2023-03-03T17:59:37.994Z"
   },
   {
    "duration": 52,
    "start_time": "2023-03-03T17:59:38.009Z"
   },
   {
    "duration": 6,
    "start_time": "2023-03-03T17:59:38.065Z"
   },
   {
    "duration": 30,
    "start_time": "2023-03-03T17:59:38.074Z"
   },
   {
    "duration": 118,
    "start_time": "2023-03-03T17:59:38.106Z"
   },
   {
    "duration": 401,
    "start_time": "2023-03-03T17:59:38.226Z"
   },
   {
    "duration": 14232,
    "start_time": "2023-03-03T17:59:38.629Z"
   },
   {
    "duration": 5557,
    "start_time": "2023-03-03T17:59:52.868Z"
   },
   {
    "duration": 4,
    "start_time": "2023-03-03T17:59:58.427Z"
   },
   {
    "duration": 137,
    "start_time": "2023-03-03T17:59:58.433Z"
   },
   {
    "duration": 5,
    "start_time": "2023-03-03T17:59:58.572Z"
   },
   {
    "duration": 60,
    "start_time": "2023-03-03T17:59:58.578Z"
   },
   {
    "duration": 15,
    "start_time": "2023-03-03T17:59:58.640Z"
   },
   {
    "duration": 31,
    "start_time": "2023-03-03T17:59:58.656Z"
   },
   {
    "duration": 39,
    "start_time": "2023-03-03T17:59:58.689Z"
   },
   {
    "duration": 112,
    "start_time": "2023-03-03T17:59:58.730Z"
   },
   {
    "duration": 57,
    "start_time": "2023-03-03T18:08:26.967Z"
   },
   {
    "duration": 133,
    "start_time": "2023-03-03T18:08:45.201Z"
   },
   {
    "duration": 3944,
    "start_time": "2023-03-03T18:09:00.001Z"
   },
   {
    "duration": 23,
    "start_time": "2023-03-03T18:09:03.948Z"
   },
   {
    "duration": 27,
    "start_time": "2023-03-03T18:09:03.973Z"
   },
   {
    "duration": 42,
    "start_time": "2023-03-03T18:09:04.002Z"
   },
   {
    "duration": 8,
    "start_time": "2023-03-03T18:09:04.046Z"
   },
   {
    "duration": 48,
    "start_time": "2023-03-03T18:09:04.056Z"
   },
   {
    "duration": 139,
    "start_time": "2023-03-03T18:09:04.106Z"
   },
   {
    "duration": 442,
    "start_time": "2023-03-03T18:09:04.247Z"
   },
   {
    "duration": 10476,
    "start_time": "2023-03-03T18:09:04.691Z"
   },
   {
    "duration": 5581,
    "start_time": "2023-03-03T18:09:15.170Z"
   },
   {
    "duration": 6,
    "start_time": "2023-03-03T18:09:20.754Z"
   },
   {
    "duration": 153,
    "start_time": "2023-03-03T18:09:20.765Z"
   },
   {
    "duration": 5,
    "start_time": "2023-03-03T18:09:20.919Z"
   },
   {
    "duration": 71,
    "start_time": "2023-03-03T18:09:20.925Z"
   },
   {
    "duration": 12,
    "start_time": "2023-03-03T18:09:20.998Z"
   },
   {
    "duration": 13,
    "start_time": "2023-03-03T18:09:21.011Z"
   },
   {
    "duration": 61,
    "start_time": "2023-03-03T18:09:21.026Z"
   },
   {
    "duration": 121,
    "start_time": "2023-03-03T18:09:21.089Z"
   },
   {
    "duration": 42,
    "start_time": "2023-03-03T18:10:26.166Z"
   },
   {
    "duration": 24,
    "start_time": "2023-03-03T18:10:59.475Z"
   },
   {
    "duration": 28,
    "start_time": "2023-03-03T18:11:06.098Z"
   },
   {
    "duration": 125,
    "start_time": "2023-03-03T18:13:03.029Z"
   },
   {
    "duration": 14,
    "start_time": "2023-03-03T18:13:10.266Z"
   },
   {
    "duration": 20,
    "start_time": "2023-03-03T18:13:12.204Z"
   },
   {
    "duration": 1716,
    "start_time": "2023-03-03T18:14:33.262Z"
   },
   {
    "duration": 16,
    "start_time": "2023-03-03T18:14:34.981Z"
   },
   {
    "duration": 17,
    "start_time": "2023-03-03T18:14:34.998Z"
   },
   {
    "duration": 57,
    "start_time": "2023-03-03T18:14:35.017Z"
   },
   {
    "duration": 5,
    "start_time": "2023-03-03T18:14:35.076Z"
   },
   {
    "duration": 16,
    "start_time": "2023-03-03T18:14:35.083Z"
   },
   {
    "duration": 141,
    "start_time": "2023-03-03T18:14:35.101Z"
   },
   {
    "duration": 409,
    "start_time": "2023-03-03T18:14:35.249Z"
   },
   {
    "duration": 16612,
    "start_time": "2023-03-03T18:14:35.666Z"
   },
   {
    "duration": 5482,
    "start_time": "2023-03-03T18:14:52.364Z"
   },
   {
    "duration": 6,
    "start_time": "2023-03-03T18:14:57.849Z"
   },
   {
    "duration": 164,
    "start_time": "2023-03-03T18:14:57.857Z"
   },
   {
    "duration": 4,
    "start_time": "2023-03-03T18:14:58.023Z"
   },
   {
    "duration": 108,
    "start_time": "2023-03-03T18:14:58.030Z"
   },
   {
    "duration": 129,
    "start_time": "2023-03-03T18:14:58.139Z"
   },
   {
    "duration": 16,
    "start_time": "2023-03-03T18:14:58.270Z"
   },
   {
    "duration": 22,
    "start_time": "2023-03-03T18:14:58.287Z"
   },
   {
    "duration": 130,
    "start_time": "2023-03-03T18:14:58.310Z"
   },
   {
    "duration": 38,
    "start_time": "2023-03-03T18:15:29.280Z"
   },
   {
    "duration": 13,
    "start_time": "2023-03-03T18:16:49.891Z"
   },
   {
    "duration": 1545,
    "start_time": "2023-03-03T18:16:58.237Z"
   },
   {
    "duration": 18,
    "start_time": "2023-03-03T18:16:59.792Z"
   },
   {
    "duration": 17,
    "start_time": "2023-03-03T18:16:59.812Z"
   },
   {
    "duration": 67,
    "start_time": "2023-03-03T18:16:59.832Z"
   },
   {
    "duration": 5,
    "start_time": "2023-03-03T18:16:59.902Z"
   },
   {
    "duration": 15,
    "start_time": "2023-03-03T18:16:59.909Z"
   },
   {
    "duration": 169,
    "start_time": "2023-03-03T18:16:59.926Z"
   },
   {
    "duration": 432,
    "start_time": "2023-03-03T18:17:00.097Z"
   },
   {
    "duration": 15451,
    "start_time": "2023-03-03T18:17:00.531Z"
   },
   {
    "duration": 5650,
    "start_time": "2023-03-03T18:17:16.053Z"
   },
   {
    "duration": 4,
    "start_time": "2023-03-03T18:17:21.705Z"
   },
   {
    "duration": 166,
    "start_time": "2023-03-03T18:17:21.711Z"
   },
   {
    "duration": 12,
    "start_time": "2023-03-03T18:17:21.879Z"
   },
   {
    "duration": 7,
    "start_time": "2023-03-03T18:17:21.893Z"
   },
   {
    "duration": 94,
    "start_time": "2023-03-03T18:17:21.901Z"
   },
   {
    "duration": 135,
    "start_time": "2023-03-03T18:17:21.998Z"
   },
   {
    "duration": 17,
    "start_time": "2023-03-03T18:17:22.135Z"
   },
   {
    "duration": 55,
    "start_time": "2023-03-03T18:17:22.154Z"
   },
   {
    "duration": 128,
    "start_time": "2023-03-03T18:17:22.211Z"
   },
   {
    "duration": 39,
    "start_time": "2023-03-03T18:26:00.976Z"
   },
   {
    "duration": 1563,
    "start_time": "2023-03-03T18:27:10.785Z"
   },
   {
    "duration": 23,
    "start_time": "2023-03-03T18:27:12.353Z"
   },
   {
    "duration": 31,
    "start_time": "2023-03-03T18:27:12.379Z"
   },
   {
    "duration": 63,
    "start_time": "2023-03-03T18:27:12.412Z"
   },
   {
    "duration": 7,
    "start_time": "2023-03-03T18:27:12.477Z"
   },
   {
    "duration": 20,
    "start_time": "2023-03-03T18:27:12.485Z"
   },
   {
    "duration": 126,
    "start_time": "2023-03-03T18:27:12.507Z"
   },
   {
    "duration": 410,
    "start_time": "2023-03-03T18:27:12.635Z"
   },
   {
    "duration": 15238,
    "start_time": "2023-03-03T18:27:13.050Z"
   },
   {
    "duration": 5544,
    "start_time": "2023-03-03T18:27:28.358Z"
   },
   {
    "duration": 5,
    "start_time": "2023-03-03T18:27:33.903Z"
   },
   {
    "duration": 153,
    "start_time": "2023-03-03T18:27:33.909Z"
   },
   {
    "duration": 30,
    "start_time": "2023-03-03T18:27:34.063Z"
   },
   {
    "duration": 9,
    "start_time": "2023-03-03T18:27:34.095Z"
   },
   {
    "duration": 72,
    "start_time": "2023-03-03T18:27:34.106Z"
   },
   {
    "duration": 138,
    "start_time": "2023-03-03T18:27:34.180Z"
   },
   {
    "duration": 13,
    "start_time": "2023-03-03T18:27:34.320Z"
   },
   {
    "duration": 70,
    "start_time": "2023-03-03T18:27:34.335Z"
   },
   {
    "duration": 121,
    "start_time": "2023-03-03T18:27:34.407Z"
   },
   {
    "duration": 17570,
    "start_time": "2023-03-03T18:30:02.792Z"
   },
   {
    "duration": 429,
    "start_time": "2023-03-03T18:30:40.411Z"
   },
   {
    "duration": 395,
    "start_time": "2023-03-03T18:31:06.599Z"
   },
   {
    "duration": 409,
    "start_time": "2023-03-03T18:31:10.211Z"
   },
   {
    "duration": 1512,
    "start_time": "2023-03-03T18:32:52.629Z"
   },
   {
    "duration": 43,
    "start_time": "2023-03-03T18:32:54.143Z"
   },
   {
    "duration": 25,
    "start_time": "2023-03-03T18:32:54.190Z"
   },
   {
    "duration": 42,
    "start_time": "2023-03-03T18:32:54.217Z"
   },
   {
    "duration": 4,
    "start_time": "2023-03-03T18:32:54.261Z"
   },
   {
    "duration": 35,
    "start_time": "2023-03-03T18:32:54.267Z"
   },
   {
    "duration": 128,
    "start_time": "2023-03-03T18:32:54.304Z"
   },
   {
    "duration": 270,
    "start_time": "2023-03-03T18:32:54.433Z"
   },
   {
    "duration": 2155,
    "start_time": "2023-03-03T18:32:54.705Z"
   },
   {
    "duration": 5525,
    "start_time": "2023-03-03T18:32:56.864Z"
   },
   {
    "duration": 4,
    "start_time": "2023-03-03T18:33:02.390Z"
   },
   {
    "duration": 202,
    "start_time": "2023-03-03T18:33:02.396Z"
   },
   {
    "duration": 11,
    "start_time": "2023-03-03T18:33:02.600Z"
   },
   {
    "duration": 4,
    "start_time": "2023-03-03T18:33:02.613Z"
   },
   {
    "duration": 74,
    "start_time": "2023-03-03T18:33:02.618Z"
   },
   {
    "duration": 127,
    "start_time": "2023-03-03T18:33:02.694Z"
   },
   {
    "duration": 13,
    "start_time": "2023-03-03T18:33:02.822Z"
   },
   {
    "duration": 47,
    "start_time": "2023-03-03T18:33:02.836Z"
   },
   {
    "duration": 145,
    "start_time": "2023-03-03T18:33:02.885Z"
   },
   {
    "duration": 122,
    "start_time": "2023-03-03T18:34:05.524Z"
   },
   {
    "duration": 133,
    "start_time": "2023-03-03T18:34:34.473Z"
   },
   {
    "duration": 128,
    "start_time": "2023-03-03T18:35:33.314Z"
   },
   {
    "duration": 121,
    "start_time": "2023-03-03T18:37:40.573Z"
   },
   {
    "duration": 130,
    "start_time": "2023-03-03T18:37:56.134Z"
   },
   {
    "duration": 400,
    "start_time": "2023-03-03T18:40:11.203Z"
   },
   {
    "duration": 12915,
    "start_time": "2023-03-03T18:40:31.533Z"
   },
   {
    "duration": 5142,
    "start_time": "2023-03-03T18:41:04.713Z"
   },
   {
    "duration": 97,
    "start_time": "2023-03-03T18:42:21.471Z"
   },
   {
    "duration": 44,
    "start_time": "2023-03-03T18:43:19.313Z"
   },
   {
    "duration": 48,
    "start_time": "2023-03-03T18:43:36.434Z"
   },
   {
    "duration": 107,
    "start_time": "2023-03-03T18:43:52.205Z"
   },
   {
    "duration": 85,
    "start_time": "2023-03-03T18:45:23.104Z"
   },
   {
    "duration": 14,
    "start_time": "2023-03-03T18:45:26.965Z"
   },
   {
    "duration": 36,
    "start_time": "2023-03-03T18:45:28.921Z"
   },
   {
    "duration": 1477,
    "start_time": "2023-03-03T18:45:39.373Z"
   },
   {
    "duration": 27,
    "start_time": "2023-03-03T18:45:40.852Z"
   },
   {
    "duration": 21,
    "start_time": "2023-03-03T18:45:40.883Z"
   },
   {
    "duration": 46,
    "start_time": "2023-03-03T18:45:40.906Z"
   },
   {
    "duration": 4,
    "start_time": "2023-03-03T18:45:40.954Z"
   },
   {
    "duration": 31,
    "start_time": "2023-03-03T18:45:40.960Z"
   },
   {
    "duration": 122,
    "start_time": "2023-03-03T18:45:40.993Z"
   },
   {
    "duration": 204,
    "start_time": "2023-03-03T18:45:41.116Z"
   },
   {
    "duration": 1788,
    "start_time": "2023-03-03T18:45:41.322Z"
   },
   {
    "duration": 132,
    "start_time": "2023-03-03T18:45:43.112Z"
   },
   {
    "duration": 7,
    "start_time": "2023-03-03T18:45:43.246Z"
   },
   {
    "duration": 147,
    "start_time": "2023-03-03T18:45:43.254Z"
   },
   {
    "duration": 4,
    "start_time": "2023-03-03T18:45:43.403Z"
   },
   {
    "duration": 56,
    "start_time": "2023-03-03T18:45:43.409Z"
   },
   {
    "duration": 90,
    "start_time": "2023-03-03T18:45:43.467Z"
   },
   {
    "duration": 20,
    "start_time": "2023-03-03T18:45:43.560Z"
   },
   {
    "duration": 0,
    "start_time": "2023-03-03T18:45:43.584Z"
   },
   {
    "duration": 0,
    "start_time": "2023-03-03T18:45:43.585Z"
   },
   {
    "duration": 11,
    "start_time": "2023-03-03T18:46:54.311Z"
   },
   {
    "duration": 34,
    "start_time": "2023-03-03T18:47:00.874Z"
   },
   {
    "duration": 117,
    "start_time": "2023-03-03T18:47:04.885Z"
   },
   {
    "duration": 101,
    "start_time": "2023-03-03T18:47:49.067Z"
   },
   {
    "duration": 1357,
    "start_time": "2023-03-03T18:47:56.687Z"
   },
   {
    "duration": 22,
    "start_time": "2023-03-03T18:47:58.046Z"
   },
   {
    "duration": 16,
    "start_time": "2023-03-03T18:47:58.070Z"
   },
   {
    "duration": 37,
    "start_time": "2023-03-03T18:47:58.088Z"
   },
   {
    "duration": 3,
    "start_time": "2023-03-03T18:47:58.127Z"
   },
   {
    "duration": 34,
    "start_time": "2023-03-03T18:47:58.132Z"
   },
   {
    "duration": 123,
    "start_time": "2023-03-03T18:47:58.167Z"
   },
   {
    "duration": 197,
    "start_time": "2023-03-03T18:47:58.292Z"
   },
   {
    "duration": 1269,
    "start_time": "2023-03-03T18:47:58.492Z"
   },
   {
    "duration": 107,
    "start_time": "2023-03-03T18:47:59.764Z"
   },
   {
    "duration": 4,
    "start_time": "2023-03-03T18:47:59.873Z"
   },
   {
    "duration": 97,
    "start_time": "2023-03-03T18:47:59.879Z"
   },
   {
    "duration": 4,
    "start_time": "2023-03-03T18:47:59.978Z"
   },
   {
    "duration": 44,
    "start_time": "2023-03-03T18:47:59.983Z"
   },
   {
    "duration": 100,
    "start_time": "2023-03-03T18:48:00.029Z"
   },
   {
    "duration": 26,
    "start_time": "2023-03-03T18:48:00.131Z"
   },
   {
    "duration": 33,
    "start_time": "2023-03-03T18:48:00.159Z"
   },
   {
    "duration": 138,
    "start_time": "2023-03-03T18:48:00.194Z"
   },
   {
    "duration": 1458,
    "start_time": "2023-03-03T18:49:37.818Z"
   },
   {
    "duration": 21,
    "start_time": "2023-03-03T18:49:39.282Z"
   },
   {
    "duration": 14,
    "start_time": "2023-03-03T18:49:39.305Z"
   },
   {
    "duration": 67,
    "start_time": "2023-03-03T18:49:39.321Z"
   },
   {
    "duration": 4,
    "start_time": "2023-03-03T18:49:39.392Z"
   },
   {
    "duration": 16,
    "start_time": "2023-03-03T18:49:39.397Z"
   },
   {
    "duration": 126,
    "start_time": "2023-03-03T18:49:39.415Z"
   },
   {
    "duration": 250,
    "start_time": "2023-03-03T18:49:39.552Z"
   },
   {
    "duration": 1655,
    "start_time": "2023-03-03T18:49:39.804Z"
   },
   {
    "duration": 5377,
    "start_time": "2023-03-03T18:49:41.462Z"
   },
   {
    "duration": 8,
    "start_time": "2023-03-03T18:49:46.840Z"
   },
   {
    "duration": 134,
    "start_time": "2023-03-03T18:49:46.850Z"
   },
   {
    "duration": 5,
    "start_time": "2023-03-03T18:49:46.987Z"
   },
   {
    "duration": 48,
    "start_time": "2023-03-03T18:49:46.993Z"
   },
   {
    "duration": 89,
    "start_time": "2023-03-03T18:49:47.043Z"
   },
   {
    "duration": 9,
    "start_time": "2023-03-03T18:49:47.134Z"
   },
   {
    "duration": 40,
    "start_time": "2023-03-03T18:49:47.145Z"
   },
   {
    "duration": 121,
    "start_time": "2023-03-03T18:49:47.187Z"
   },
   {
    "duration": 462,
    "start_time": "2023-03-03T18:51:08.325Z"
   },
   {
    "duration": 1532,
    "start_time": "2023-03-03T18:51:19.370Z"
   },
   {
    "duration": 15,
    "start_time": "2023-03-03T18:51:20.904Z"
   },
   {
    "duration": 17,
    "start_time": "2023-03-03T18:51:20.921Z"
   },
   {
    "duration": 55,
    "start_time": "2023-03-03T18:51:20.939Z"
   },
   {
    "duration": 8,
    "start_time": "2023-03-03T18:51:20.998Z"
   },
   {
    "duration": 15,
    "start_time": "2023-03-03T18:51:21.007Z"
   },
   {
    "duration": 134,
    "start_time": "2023-03-03T18:51:21.024Z"
   },
   {
    "duration": 452,
    "start_time": "2023-03-03T18:51:21.160Z"
   },
   {
    "duration": 12478,
    "start_time": "2023-03-03T18:51:21.613Z"
   },
   {
    "duration": 5517,
    "start_time": "2023-03-03T18:51:34.098Z"
   },
   {
    "duration": 4,
    "start_time": "2023-03-03T18:51:39.617Z"
   },
   {
    "duration": 98,
    "start_time": "2023-03-03T18:51:39.622Z"
   },
   {
    "duration": 6,
    "start_time": "2023-03-03T18:51:39.722Z"
   },
   {
    "duration": 70,
    "start_time": "2023-03-03T18:51:39.730Z"
   },
   {
    "duration": 98,
    "start_time": "2023-03-03T18:51:39.802Z"
   },
   {
    "duration": 11,
    "start_time": "2023-03-03T18:51:39.908Z"
   },
   {
    "duration": 42,
    "start_time": "2023-03-03T18:51:39.920Z"
   },
   {
    "duration": 159,
    "start_time": "2023-03-03T18:51:39.963Z"
   },
   {
    "duration": 102,
    "start_time": "2023-03-03T18:53:51.623Z"
   },
   {
    "duration": 101,
    "start_time": "2023-03-03T18:54:17.273Z"
   },
   {
    "duration": 93,
    "start_time": "2023-03-03T18:55:00.308Z"
   },
   {
    "duration": 11,
    "start_time": "2023-03-03T18:55:05.034Z"
   },
   {
    "duration": 1694,
    "start_time": "2023-03-03T18:55:10.785Z"
   },
   {
    "duration": 28,
    "start_time": "2023-03-03T18:55:12.483Z"
   },
   {
    "duration": 18,
    "start_time": "2023-03-03T18:55:12.513Z"
   },
   {
    "duration": 72,
    "start_time": "2023-03-03T18:55:12.533Z"
   },
   {
    "duration": 5,
    "start_time": "2023-03-03T18:55:12.607Z"
   },
   {
    "duration": 10,
    "start_time": "2023-03-03T18:55:12.614Z"
   },
   {
    "duration": 145,
    "start_time": "2023-03-03T18:55:12.626Z"
   },
   {
    "duration": 494,
    "start_time": "2023-03-03T18:55:12.774Z"
   },
   {
    "duration": 15495,
    "start_time": "2023-03-03T18:55:13.270Z"
   },
   {
    "duration": 5533,
    "start_time": "2023-03-03T18:55:28.781Z"
   },
   {
    "duration": 5,
    "start_time": "2023-03-03T18:55:34.316Z"
   },
   {
    "duration": 110,
    "start_time": "2023-03-03T18:55:34.322Z"
   },
   {
    "duration": 5,
    "start_time": "2023-03-03T18:55:34.433Z"
   },
   {
    "duration": 102,
    "start_time": "2023-03-03T18:55:34.440Z"
   },
   {
    "duration": 19,
    "start_time": "2023-03-03T18:55:34.544Z"
   },
   {
    "duration": 34,
    "start_time": "2023-03-03T18:55:34.571Z"
   },
   {
    "duration": 30,
    "start_time": "2023-03-03T18:55:34.607Z"
   },
   {
    "duration": 135,
    "start_time": "2023-03-03T18:55:34.639Z"
   },
   {
    "duration": 51,
    "start_time": "2023-03-03T18:58:05.773Z"
   },
   {
    "duration": 8214,
    "start_time": "2023-03-03T18:59:28.679Z"
   },
   {
    "duration": 1583,
    "start_time": "2023-03-03T19:00:29.615Z"
   },
   {
    "duration": 15,
    "start_time": "2023-03-03T19:00:31.200Z"
   },
   {
    "duration": 28,
    "start_time": "2023-03-03T19:00:31.217Z"
   },
   {
    "duration": 94,
    "start_time": "2023-03-03T19:00:31.247Z"
   },
   {
    "duration": 3,
    "start_time": "2023-03-03T19:00:31.343Z"
   },
   {
    "duration": 75,
    "start_time": "2023-03-03T19:00:31.348Z"
   },
   {
    "duration": 155,
    "start_time": "2023-03-03T19:00:31.425Z"
   },
   {
    "duration": 434,
    "start_time": "2023-03-03T19:00:31.584Z"
   },
   {
    "duration": 16749,
    "start_time": "2023-03-03T19:00:32.019Z"
   },
   {
    "duration": 8441,
    "start_time": "2023-03-03T19:00:48.777Z"
   },
   {
    "duration": 4,
    "start_time": "2023-03-03T19:00:57.219Z"
   },
   {
    "duration": 418,
    "start_time": "2023-03-03T19:00:57.225Z"
   },
   {
    "duration": 16,
    "start_time": "2023-03-03T19:00:57.647Z"
   },
   {
    "duration": 193,
    "start_time": "2023-03-03T19:00:57.665Z"
   },
   {
    "duration": 26,
    "start_time": "2023-03-03T19:00:57.861Z"
   },
   {
    "duration": 25,
    "start_time": "2023-03-03T19:00:57.889Z"
   },
   {
    "duration": 43,
    "start_time": "2023-03-03T19:00:57.916Z"
   },
   {
    "duration": 119,
    "start_time": "2023-03-03T19:00:57.972Z"
   },
   {
    "duration": 22,
    "start_time": "2023-03-03T19:05:14.865Z"
   },
   {
    "duration": 52,
    "start_time": "2023-03-05T11:33:20.088Z"
   },
   {
    "duration": 6,
    "start_time": "2023-03-05T11:34:14.147Z"
   },
   {
    "duration": 1895,
    "start_time": "2023-03-05T11:34:53.025Z"
   },
   {
    "duration": 20,
    "start_time": "2023-03-05T11:34:54.923Z"
   },
   {
    "duration": 14,
    "start_time": "2023-03-05T11:34:54.945Z"
   },
   {
    "duration": 262,
    "start_time": "2023-03-05T11:34:54.961Z"
   },
   {
    "duration": 0,
    "start_time": "2023-03-05T11:34:55.226Z"
   },
   {
    "duration": 0,
    "start_time": "2023-03-05T11:34:55.228Z"
   },
   {
    "duration": 0,
    "start_time": "2023-03-05T11:34:55.230Z"
   },
   {
    "duration": 0,
    "start_time": "2023-03-05T11:34:55.232Z"
   },
   {
    "duration": 0,
    "start_time": "2023-03-05T11:34:55.233Z"
   },
   {
    "duration": 0,
    "start_time": "2023-03-05T11:34:55.234Z"
   },
   {
    "duration": 0,
    "start_time": "2023-03-05T11:34:55.235Z"
   },
   {
    "duration": 0,
    "start_time": "2023-03-05T11:34:55.236Z"
   },
   {
    "duration": 0,
    "start_time": "2023-03-05T11:34:55.237Z"
   },
   {
    "duration": 0,
    "start_time": "2023-03-05T11:34:55.238Z"
   },
   {
    "duration": 0,
    "start_time": "2023-03-05T11:34:55.239Z"
   },
   {
    "duration": 0,
    "start_time": "2023-03-05T11:34:55.240Z"
   },
   {
    "duration": 0,
    "start_time": "2023-03-05T11:34:55.242Z"
   },
   {
    "duration": 0,
    "start_time": "2023-03-05T11:34:55.243Z"
   },
   {
    "duration": 0,
    "start_time": "2023-03-05T11:34:55.244Z"
   },
   {
    "duration": 28,
    "start_time": "2023-03-05T11:36:25.609Z"
   },
   {
    "duration": 11,
    "start_time": "2023-03-05T11:59:27.829Z"
   },
   {
    "duration": 13,
    "start_time": "2023-03-05T12:01:27.716Z"
   },
   {
    "duration": 8,
    "start_time": "2023-03-05T12:37:08.256Z"
   },
   {
    "duration": 157,
    "start_time": "2023-03-05T12:37:23.723Z"
   },
   {
    "duration": 8,
    "start_time": "2023-03-05T12:37:42.923Z"
   },
   {
    "duration": 59,
    "start_time": "2023-03-05T12:38:06.712Z"
   },
   {
    "duration": 73,
    "start_time": "2023-03-05T12:38:11.249Z"
   },
   {
    "duration": 117,
    "start_time": "2023-03-05T12:38:20.853Z"
   },
   {
    "duration": 4179,
    "start_time": "2023-03-05T12:39:18.672Z"
   },
   {
    "duration": 43,
    "start_time": "2023-03-05T12:41:50.313Z"
   },
   {
    "duration": 10,
    "start_time": "2023-03-05T12:42:06.083Z"
   },
   {
    "duration": 14,
    "start_time": "2023-03-05T12:42:17.408Z"
   },
   {
    "duration": 20930,
    "start_time": "2023-03-05T12:42:21.063Z"
   },
   {
    "duration": 38,
    "start_time": "2023-03-05T12:42:44.717Z"
   },
   {
    "duration": 15890,
    "start_time": "2023-03-05T12:42:49.607Z"
   },
   {
    "duration": 51,
    "start_time": "2023-03-05T12:43:10.683Z"
   },
   {
    "duration": 12,
    "start_time": "2023-03-05T12:44:52.988Z"
   },
   {
    "duration": 473,
    "start_time": "2023-03-05T12:44:59.733Z"
   },
   {
    "duration": 49,
    "start_time": "2023-03-05T12:45:24.473Z"
   },
   {
    "duration": 14,
    "start_time": "2023-03-05T12:46:09.394Z"
   },
   {
    "duration": 6,
    "start_time": "2023-03-05T12:46:16.582Z"
   },
   {
    "duration": 221,
    "start_time": "2023-03-05T12:46:18.483Z"
   },
   {
    "duration": 52,
    "start_time": "2023-03-05T12:46:21.055Z"
   },
   {
    "duration": 1613,
    "start_time": "2023-03-05T12:46:48.209Z"
   },
   {
    "duration": 24,
    "start_time": "2023-03-05T12:46:49.825Z"
   },
   {
    "duration": 21,
    "start_time": "2023-03-05T12:46:49.851Z"
   },
   {
    "duration": 173,
    "start_time": "2023-03-05T12:46:49.874Z"
   },
   {
    "duration": 68,
    "start_time": "2023-03-05T12:46:50.049Z"
   },
   {
    "duration": 103,
    "start_time": "2023-03-05T12:46:50.118Z"
   },
   {
    "duration": 172,
    "start_time": "2023-03-05T12:46:50.224Z"
   },
   {
    "duration": 4447,
    "start_time": "2023-03-05T12:46:50.398Z"
   },
   {
    "duration": 50,
    "start_time": "2023-03-05T12:46:54.846Z"
   },
   {
    "duration": 25613,
    "start_time": "2023-03-05T12:46:54.899Z"
   },
   {
    "duration": 302,
    "start_time": "2023-03-05T12:47:20.514Z"
   },
   {
    "duration": 16954,
    "start_time": "2023-03-05T12:47:20.817Z"
   },
   {
    "duration": 59,
    "start_time": "2023-03-05T12:47:37.773Z"
   },
   {
    "duration": 4,
    "start_time": "2023-03-05T12:47:37.834Z"
   },
   {
    "duration": 215,
    "start_time": "2023-03-05T12:47:37.840Z"
   },
   {
    "duration": 0,
    "start_time": "2023-03-05T12:47:38.057Z"
   },
   {
    "duration": 0,
    "start_time": "2023-03-05T12:47:38.058Z"
   },
   {
    "duration": 0,
    "start_time": "2023-03-05T12:47:38.059Z"
   },
   {
    "duration": 0,
    "start_time": "2023-03-05T12:47:38.061Z"
   },
   {
    "duration": 0,
    "start_time": "2023-03-05T12:47:38.062Z"
   },
   {
    "duration": 0,
    "start_time": "2023-03-05T12:47:38.063Z"
   },
   {
    "duration": 0,
    "start_time": "2023-03-05T12:47:38.064Z"
   },
   {
    "duration": 0,
    "start_time": "2023-03-05T12:47:38.065Z"
   },
   {
    "duration": 492,
    "start_time": "2023-03-05T13:00:54.372Z"
   },
   {
    "duration": 501,
    "start_time": "2023-03-05T13:01:06.907Z"
   },
   {
    "duration": 10,
    "start_time": "2023-03-05T13:01:12.568Z"
   },
   {
    "duration": 10,
    "start_time": "2023-03-05T13:01:20.612Z"
   },
   {
    "duration": 39,
    "start_time": "2023-03-05T13:01:26.517Z"
   },
   {
    "duration": 12,
    "start_time": "2023-03-05T13:02:06.983Z"
   },
   {
    "duration": 9,
    "start_time": "2023-03-05T13:02:23.063Z"
   },
   {
    "duration": 5,
    "start_time": "2023-03-05T13:02:26.647Z"
   },
   {
    "duration": 149,
    "start_time": "2023-03-05T13:02:28.712Z"
   },
   {
    "duration": 41,
    "start_time": "2023-03-05T13:02:40.286Z"
   },
   {
    "duration": 29,
    "start_time": "2023-03-05T13:04:11.950Z"
   },
   {
    "duration": 34,
    "start_time": "2023-03-05T13:04:17.872Z"
   },
   {
    "duration": 49,
    "start_time": "2023-03-05T13:05:34.324Z"
   },
   {
    "duration": 52,
    "start_time": "2023-03-05T13:05:47.382Z"
   },
   {
    "duration": 103,
    "start_time": "2023-03-05T13:06:12.939Z"
   },
   {
    "duration": 51,
    "start_time": "2023-03-05T16:00:21.994Z"
   },
   {
    "duration": 1669,
    "start_time": "2023-03-05T16:00:31.566Z"
   },
   {
    "duration": 17,
    "start_time": "2023-03-05T16:00:33.238Z"
   },
   {
    "duration": 14,
    "start_time": "2023-03-05T16:00:33.256Z"
   },
   {
    "duration": 5,
    "start_time": "2023-03-05T16:00:33.272Z"
   },
   {
    "duration": 11,
    "start_time": "2023-03-05T16:00:33.278Z"
   },
   {
    "duration": 5,
    "start_time": "2023-03-05T16:00:33.290Z"
   },
   {
    "duration": 8,
    "start_time": "2023-03-05T16:00:33.296Z"
   },
   {
    "duration": 144,
    "start_time": "2023-03-05T16:00:33.305Z"
   },
   {
    "duration": 296,
    "start_time": "2023-03-05T16:00:33.455Z"
   },
   {
    "duration": 9,
    "start_time": "2023-03-05T16:00:33.755Z"
   },
   {
    "duration": 3195,
    "start_time": "2023-03-05T16:00:33.766Z"
   },
   {
    "duration": 96,
    "start_time": "2023-03-05T16:00:36.963Z"
   },
   {
    "duration": 7830,
    "start_time": "2023-03-05T16:00:37.061Z"
   },
   {
    "duration": 24,
    "start_time": "2023-03-05T16:00:44.893Z"
   },
   {
    "duration": 4,
    "start_time": "2023-03-05T16:00:44.919Z"
   },
   {
    "duration": 55,
    "start_time": "2023-03-05T16:00:44.925Z"
   },
   {
    "duration": 7,
    "start_time": "2023-03-05T16:00:44.982Z"
   },
   {
    "duration": 4,
    "start_time": "2023-03-05T16:00:44.991Z"
   },
   {
    "duration": 20,
    "start_time": "2023-03-05T16:00:44.996Z"
   },
   {
    "duration": 7,
    "start_time": "2023-03-05T16:00:45.018Z"
   },
   {
    "duration": 31,
    "start_time": "2023-03-05T16:00:45.027Z"
   },
   {
    "duration": 29,
    "start_time": "2023-03-05T16:00:45.060Z"
   },
   {
    "duration": 27,
    "start_time": "2023-03-05T16:00:45.091Z"
   },
   {
    "duration": 113,
    "start_time": "2023-03-05T16:00:45.120Z"
   },
   {
    "duration": 1322,
    "start_time": "2023-03-05T16:01:20.802Z"
   },
   {
    "duration": 15,
    "start_time": "2023-03-05T16:01:22.125Z"
   },
   {
    "duration": 13,
    "start_time": "2023-03-05T16:01:22.142Z"
   },
   {
    "duration": 4,
    "start_time": "2023-03-05T16:01:22.156Z"
   },
   {
    "duration": 12,
    "start_time": "2023-03-05T16:01:22.161Z"
   },
   {
    "duration": 4,
    "start_time": "2023-03-05T16:01:22.174Z"
   },
   {
    "duration": 8,
    "start_time": "2023-03-05T16:01:22.179Z"
   },
   {
    "duration": 131,
    "start_time": "2023-03-05T16:01:22.188Z"
   },
   {
    "duration": 294,
    "start_time": "2023-03-05T16:01:22.321Z"
   },
   {
    "duration": 8,
    "start_time": "2023-03-05T16:01:22.617Z"
   },
   {
    "duration": 1633,
    "start_time": "2023-03-05T16:01:22.626Z"
   },
   {
    "duration": 98,
    "start_time": "2023-03-05T16:01:24.261Z"
   },
   {
    "duration": 7044,
    "start_time": "2023-03-05T16:01:24.361Z"
   },
   {
    "duration": 21,
    "start_time": "2023-03-05T16:01:31.407Z"
   },
   {
    "duration": 4,
    "start_time": "2023-03-05T16:01:31.430Z"
   },
   {
    "duration": 53,
    "start_time": "2023-03-05T16:01:31.435Z"
   },
   {
    "duration": 8,
    "start_time": "2023-03-05T16:01:31.489Z"
   },
   {
    "duration": 7,
    "start_time": "2023-03-05T16:01:31.498Z"
   },
   {
    "duration": 39,
    "start_time": "2023-03-05T16:01:31.507Z"
   },
   {
    "duration": 8,
    "start_time": "2023-03-05T16:01:31.548Z"
   },
   {
    "duration": 12,
    "start_time": "2023-03-05T16:01:31.557Z"
   },
   {
    "duration": 12,
    "start_time": "2023-03-05T16:01:31.570Z"
   },
   {
    "duration": 43,
    "start_time": "2023-03-05T16:01:31.583Z"
   },
   {
    "duration": 124,
    "start_time": "2023-03-05T16:01:31.627Z"
   },
   {
    "duration": 10,
    "start_time": "2023-03-05T16:04:24.882Z"
   },
   {
    "duration": 14,
    "start_time": "2023-03-05T16:04:40.724Z"
   },
   {
    "duration": 145,
    "start_time": "2023-03-05T16:04:58.337Z"
   },
   {
    "duration": 24,
    "start_time": "2023-03-05T16:05:03.013Z"
   },
   {
    "duration": 1361,
    "start_time": "2023-03-05T16:05:08.444Z"
   },
   {
    "duration": 15,
    "start_time": "2023-03-05T16:05:09.807Z"
   },
   {
    "duration": 13,
    "start_time": "2023-03-05T16:05:09.824Z"
   },
   {
    "duration": 4,
    "start_time": "2023-03-05T16:05:09.839Z"
   },
   {
    "duration": 11,
    "start_time": "2023-03-05T16:05:09.844Z"
   },
   {
    "duration": 4,
    "start_time": "2023-03-05T16:05:09.857Z"
   },
   {
    "duration": 8,
    "start_time": "2023-03-05T16:05:09.863Z"
   },
   {
    "duration": 131,
    "start_time": "2023-03-05T16:05:09.872Z"
   },
   {
    "duration": 297,
    "start_time": "2023-03-05T16:05:10.004Z"
   },
   {
    "duration": 7,
    "start_time": "2023-03-05T16:05:10.304Z"
   },
   {
    "duration": 1542,
    "start_time": "2023-03-05T16:05:10.313Z"
   },
   {
    "duration": 9,
    "start_time": "2023-03-05T16:05:11.857Z"
   },
   {
    "duration": 7967,
    "start_time": "2023-03-05T16:05:11.955Z"
   },
   {
    "duration": 32,
    "start_time": "2023-03-05T16:05:19.923Z"
   },
   {
    "duration": 4,
    "start_time": "2023-03-05T16:05:19.957Z"
   },
   {
    "duration": 37,
    "start_time": "2023-03-05T16:05:19.962Z"
   },
   {
    "duration": 7,
    "start_time": "2023-03-05T16:05:20.000Z"
   },
   {
    "duration": 28,
    "start_time": "2023-03-05T16:05:20.009Z"
   },
   {
    "duration": 41,
    "start_time": "2023-03-05T16:05:20.038Z"
   },
   {
    "duration": 6,
    "start_time": "2023-03-05T16:05:20.081Z"
   },
   {
    "duration": 7,
    "start_time": "2023-03-05T16:05:20.089Z"
   },
   {
    "duration": 7,
    "start_time": "2023-03-05T16:05:20.097Z"
   },
   {
    "duration": 27,
    "start_time": "2023-03-05T16:05:20.105Z"
   },
   {
    "duration": 129,
    "start_time": "2023-03-05T16:05:20.154Z"
   },
   {
    "duration": 1371,
    "start_time": "2023-03-05T16:10:06.949Z"
   },
   {
    "duration": 15,
    "start_time": "2023-03-05T16:10:08.322Z"
   },
   {
    "duration": 14,
    "start_time": "2023-03-05T16:10:08.339Z"
   },
   {
    "duration": 4,
    "start_time": "2023-03-05T16:10:08.355Z"
   },
   {
    "duration": 9,
    "start_time": "2023-03-05T16:10:08.360Z"
   },
   {
    "duration": 4,
    "start_time": "2023-03-05T16:10:08.371Z"
   },
   {
    "duration": 8,
    "start_time": "2023-03-05T16:10:08.376Z"
   },
   {
    "duration": 132,
    "start_time": "2023-03-05T16:10:08.385Z"
   },
   {
    "duration": 297,
    "start_time": "2023-03-05T16:10:08.518Z"
   },
   {
    "duration": 123,
    "start_time": "2023-03-05T16:10:08.817Z"
   },
   {
    "duration": 0,
    "start_time": "2023-03-05T16:10:08.941Z"
   },
   {
    "duration": 0,
    "start_time": "2023-03-05T16:10:08.942Z"
   },
   {
    "duration": 0,
    "start_time": "2023-03-05T16:10:08.943Z"
   },
   {
    "duration": 0,
    "start_time": "2023-03-05T16:10:08.954Z"
   },
   {
    "duration": 0,
    "start_time": "2023-03-05T16:10:08.955Z"
   },
   {
    "duration": 0,
    "start_time": "2023-03-05T16:10:08.956Z"
   },
   {
    "duration": 0,
    "start_time": "2023-03-05T16:10:08.957Z"
   },
   {
    "duration": 0,
    "start_time": "2023-03-05T16:10:08.958Z"
   },
   {
    "duration": 0,
    "start_time": "2023-03-05T16:10:08.959Z"
   },
   {
    "duration": 0,
    "start_time": "2023-03-05T16:10:08.960Z"
   },
   {
    "duration": 0,
    "start_time": "2023-03-05T16:10:08.961Z"
   },
   {
    "duration": 0,
    "start_time": "2023-03-05T16:10:08.962Z"
   },
   {
    "duration": 0,
    "start_time": "2023-03-05T16:10:08.963Z"
   },
   {
    "duration": 0,
    "start_time": "2023-03-05T16:10:08.963Z"
   },
   {
    "duration": 11,
    "start_time": "2023-03-05T16:13:05.214Z"
   },
   {
    "duration": 9,
    "start_time": "2023-03-05T16:13:12.657Z"
   },
   {
    "duration": 1426,
    "start_time": "2023-03-05T16:13:54.219Z"
   },
   {
    "duration": 18,
    "start_time": "2023-03-05T16:13:55.647Z"
   },
   {
    "duration": 14,
    "start_time": "2023-03-05T16:13:55.667Z"
   },
   {
    "duration": 4,
    "start_time": "2023-03-05T16:13:55.683Z"
   },
   {
    "duration": 24,
    "start_time": "2023-03-05T16:13:55.689Z"
   },
   {
    "duration": 6,
    "start_time": "2023-03-05T16:13:55.714Z"
   },
   {
    "duration": 9,
    "start_time": "2023-03-05T16:13:55.722Z"
   },
   {
    "duration": 138,
    "start_time": "2023-03-05T16:13:55.733Z"
   },
   {
    "duration": 291,
    "start_time": "2023-03-05T16:13:55.873Z"
   },
   {
    "duration": 7,
    "start_time": "2023-03-05T16:13:56.167Z"
   },
   {
    "duration": 1686,
    "start_time": "2023-03-05T16:13:56.175Z"
   },
   {
    "duration": 96,
    "start_time": "2023-03-05T16:13:57.863Z"
   },
   {
    "duration": 7952,
    "start_time": "2023-03-05T16:13:57.961Z"
   },
   {
    "duration": 33,
    "start_time": "2023-03-05T16:14:05.915Z"
   },
   {
    "duration": 4,
    "start_time": "2023-03-05T16:14:05.955Z"
   },
   {
    "duration": 39,
    "start_time": "2023-03-05T16:14:05.960Z"
   },
   {
    "duration": 125,
    "start_time": "2023-03-05T16:14:06.001Z"
   },
   {
    "duration": 0,
    "start_time": "2023-03-05T16:14:06.128Z"
   },
   {
    "duration": 0,
    "start_time": "2023-03-05T16:14:06.129Z"
   },
   {
    "duration": 0,
    "start_time": "2023-03-05T16:14:06.130Z"
   },
   {
    "duration": 0,
    "start_time": "2023-03-05T16:14:06.132Z"
   },
   {
    "duration": 0,
    "start_time": "2023-03-05T16:14:06.132Z"
   },
   {
    "duration": 0,
    "start_time": "2023-03-05T16:14:06.134Z"
   },
   {
    "duration": 0,
    "start_time": "2023-03-05T16:14:06.135Z"
   },
   {
    "duration": 8,
    "start_time": "2023-03-05T16:14:31.744Z"
   },
   {
    "duration": 4,
    "start_time": "2023-03-05T16:14:38.859Z"
   },
   {
    "duration": 20,
    "start_time": "2023-03-05T16:14:41.059Z"
   },
   {
    "duration": 7,
    "start_time": "2023-03-05T16:14:43.275Z"
   },
   {
    "duration": 7,
    "start_time": "2023-03-05T16:15:42.919Z"
   },
   {
    "duration": 9,
    "start_time": "2023-03-05T16:15:45.406Z"
   },
   {
    "duration": 107,
    "start_time": "2023-03-05T16:17:05.671Z"
   },
   {
    "duration": 26,
    "start_time": "2023-03-05T16:20:03.274Z"
   },
   {
    "duration": 2051,
    "start_time": "2023-03-05T16:40:09.218Z"
   },
   {
    "duration": 16,
    "start_time": "2023-03-05T16:40:11.271Z"
   },
   {
    "duration": 13,
    "start_time": "2023-03-05T16:40:11.288Z"
   },
   {
    "duration": 12,
    "start_time": "2023-03-05T16:40:11.303Z"
   },
   {
    "duration": 14,
    "start_time": "2023-03-05T16:40:11.317Z"
   },
   {
    "duration": 9,
    "start_time": "2023-03-05T16:40:11.332Z"
   },
   {
    "duration": 9,
    "start_time": "2023-03-05T16:40:11.354Z"
   },
   {
    "duration": 128,
    "start_time": "2023-03-05T16:40:11.365Z"
   },
   {
    "duration": 310,
    "start_time": "2023-03-05T16:40:11.495Z"
   },
   {
    "duration": 8,
    "start_time": "2023-03-05T16:40:11.807Z"
   },
   {
    "duration": 1641,
    "start_time": "2023-03-05T16:40:11.816Z"
   },
   {
    "duration": 99,
    "start_time": "2023-03-05T16:40:13.461Z"
   },
   {
    "duration": 6968,
    "start_time": "2023-03-05T16:40:13.654Z"
   },
   {
    "duration": 21,
    "start_time": "2023-03-05T16:40:20.623Z"
   },
   {
    "duration": 4,
    "start_time": "2023-03-05T16:40:20.655Z"
   },
   {
    "duration": 37,
    "start_time": "2023-03-05T16:40:20.660Z"
   },
   {
    "duration": 7,
    "start_time": "2023-03-05T16:40:20.699Z"
   },
   {
    "duration": 4,
    "start_time": "2023-03-05T16:40:20.708Z"
   },
   {
    "duration": 45,
    "start_time": "2023-03-05T16:40:20.713Z"
   },
   {
    "duration": 7,
    "start_time": "2023-03-05T16:40:20.759Z"
   },
   {
    "duration": 27,
    "start_time": "2023-03-05T16:40:20.768Z"
   },
   {
    "duration": 6,
    "start_time": "2023-03-05T16:40:20.797Z"
   },
   {
    "duration": 6,
    "start_time": "2023-03-05T16:40:20.805Z"
   },
   {
    "duration": 57,
    "start_time": "2023-03-05T16:40:20.813Z"
   },
   {
    "duration": 119,
    "start_time": "2023-03-05T16:40:20.872Z"
   },
   {
    "duration": 7,
    "start_time": "2023-03-05T17:00:17.588Z"
   },
   {
    "duration": 28,
    "start_time": "2023-03-05T17:00:37.774Z"
   },
   {
    "duration": 44,
    "start_time": "2023-03-05T17:02:53.518Z"
   },
   {
    "duration": 418,
    "start_time": "2023-03-05T17:07:11.072Z"
   },
   {
    "duration": 23,
    "start_time": "2023-03-05T17:07:32.306Z"
   },
   {
    "duration": 142,
    "start_time": "2023-03-05T17:07:58.182Z"
   },
   {
    "duration": 7,
    "start_time": "2023-03-05T17:08:01.078Z"
   },
   {
    "duration": 1326,
    "start_time": "2023-03-05T17:08:07.367Z"
   },
   {
    "duration": 16,
    "start_time": "2023-03-05T17:08:08.695Z"
   },
   {
    "duration": 15,
    "start_time": "2023-03-05T17:08:08.712Z"
   },
   {
    "duration": 4,
    "start_time": "2023-03-05T17:08:08.729Z"
   },
   {
    "duration": 14,
    "start_time": "2023-03-05T17:08:08.734Z"
   },
   {
    "duration": 5,
    "start_time": "2023-03-05T17:08:08.755Z"
   },
   {
    "duration": 9,
    "start_time": "2023-03-05T17:08:08.762Z"
   },
   {
    "duration": 149,
    "start_time": "2023-03-05T17:08:08.773Z"
   },
   {
    "duration": 318,
    "start_time": "2023-03-05T17:08:08.924Z"
   },
   {
    "duration": 11,
    "start_time": "2023-03-05T17:08:09.244Z"
   },
   {
    "duration": 1401,
    "start_time": "2023-03-05T17:08:09.256Z"
   },
   {
    "duration": 99,
    "start_time": "2023-03-05T17:08:10.660Z"
   },
   {
    "duration": 7143,
    "start_time": "2023-03-05T17:08:10.761Z"
   },
   {
    "duration": 25,
    "start_time": "2023-03-05T17:08:17.906Z"
   },
   {
    "duration": 4,
    "start_time": "2023-03-05T17:08:17.933Z"
   },
   {
    "duration": 386,
    "start_time": "2023-03-05T17:08:17.955Z"
   },
   {
    "duration": 29,
    "start_time": "2023-03-05T17:08:18.342Z"
   },
   {
    "duration": 5,
    "start_time": "2023-03-05T17:08:18.372Z"
   },
   {
    "duration": 262,
    "start_time": "2023-03-05T17:08:18.378Z"
   },
   {
    "duration": 0,
    "start_time": "2023-03-05T17:08:18.642Z"
   },
   {
    "duration": 0,
    "start_time": "2023-03-05T17:08:18.643Z"
   },
   {
    "duration": 0,
    "start_time": "2023-03-05T17:08:18.644Z"
   },
   {
    "duration": 0,
    "start_time": "2023-03-05T17:08:18.654Z"
   },
   {
    "duration": 0,
    "start_time": "2023-03-05T17:08:18.656Z"
   },
   {
    "duration": 0,
    "start_time": "2023-03-05T17:08:18.656Z"
   },
   {
    "duration": 160,
    "start_time": "2023-03-05T17:08:40.623Z"
   },
   {
    "duration": 10,
    "start_time": "2023-03-05T17:08:47.072Z"
   },
   {
    "duration": 28,
    "start_time": "2023-03-05T17:08:55.204Z"
   },
   {
    "duration": 34,
    "start_time": "2023-03-05T17:08:57.773Z"
   },
   {
    "duration": 306,
    "start_time": "2023-03-05T17:09:10.510Z"
   },
   {
    "duration": 340,
    "start_time": "2023-03-05T17:09:19.184Z"
   },
   {
    "duration": 310,
    "start_time": "2023-03-05T17:09:59.799Z"
   },
   {
    "duration": 22,
    "start_time": "2023-03-05T17:10:48.613Z"
   },
   {
    "duration": 9,
    "start_time": "2023-03-05T17:10:53.836Z"
   },
   {
    "duration": 11,
    "start_time": "2023-03-05T17:12:07.953Z"
   },
   {
    "duration": 9,
    "start_time": "2023-03-05T17:12:27.656Z"
   },
   {
    "duration": 10,
    "start_time": "2023-03-05T17:12:37.131Z"
   },
   {
    "duration": 28,
    "start_time": "2023-03-05T17:12:43.452Z"
   },
   {
    "duration": 46,
    "start_time": "2023-03-05T17:13:48.718Z"
   },
   {
    "duration": 23,
    "start_time": "2023-03-05T17:14:16.753Z"
   },
   {
    "duration": 121,
    "start_time": "2023-03-05T17:14:29.205Z"
   }
  ],
  "kernelspec": {
   "display_name": "Python 3 (ipykernel)",
   "language": "python",
   "name": "python3"
  },
  "language_info": {
   "codemirror_mode": {
    "name": "ipython",
    "version": 3
   },
   "file_extension": ".py",
   "mimetype": "text/x-python",
   "name": "python",
   "nbconvert_exporter": "python",
   "pygments_lexer": "ipython3",
   "version": "3.9.12"
  },
  "toc": {
   "base_numbering": 1,
   "nav_menu": {
    "height": "102.997px",
    "width": "191.996px"
   },
   "number_sections": true,
   "sideBar": true,
   "skip_h1_title": true,
   "title_cell": "Содержание",
   "title_sidebar": "Contents",
   "toc_cell": true,
   "toc_position": {},
   "toc_section_display": true,
   "toc_window_display": true
  }
 },
 "nbformat": 4,
 "nbformat_minor": 2
}
